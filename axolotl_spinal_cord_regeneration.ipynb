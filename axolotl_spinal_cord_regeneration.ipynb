{
 "cells": [
  {
   "cell_type": "markdown",
   "metadata": {},
   "source": [
    "## Supplementary Information"
   ]
  },
  {
   "cell_type": "markdown",
   "metadata": {},
   "source": [
    "# Axolotl spinal cord regeneration induces an axis elongation program that implements PCP signaling to drive neural stem cell expansion"
   ]
  },
  {
   "cell_type": "markdown",
   "metadata": {},
   "source": [
    "Aida Rodrigo Albors<sup>1,2</sup>, Akira Tazaki<sup>1,2</sup>, Fabian Rost<sup>3</sup>, Osvaldo Chara<sup>3,4</sup>, Elly M. Tanaka<sup>1,2</sup>"
   ]
  },
  {
   "cell_type": "markdown",
   "metadata": {},
   "source": [
    "<sup>1</sup>Deutsche Forschungsgemeinschaft (DFG)–Center for Regenerative Therapies Dresden, Technische Universität Dresden, Germany.<br>\n",
    "<sup>2</sup>Max Planck Institute of Molecular Cell Biology and Genetics, Dresden, Germany.<br>\n",
    "<sup>3</sup>Center for Information Services and High Performance Computing, Technische Universität Dresden, Germany.<br>\n",
    "<sup>4</sup>Institute of Physics of Liquids and Biological Systems, Consejo Nacional de Investigaciones Científicas y Técnicas (CONICET) and University of La Plata, Argentina."
   ]
  },
  {
   "cell_type": "markdown",
   "metadata": {},
   "source": [
    "http://dx.doi.org/??.????/?????????"
   ]
  },
  {
   "cell_type": "markdown",
   "metadata": {},
   "source": [
    "## Content"
   ]
  },
  {
   "cell_type": "markdown",
   "metadata": {},
   "source": [
    "* Introduction\n",
    "* Mitotic index\n",
    "* Cell cycle length and cell cycle parameters analysis"
   ]
  },
  {
   "cell_type": "markdown",
   "metadata": {},
   "source": [
    "## Introduction"
   ]
  },
  {
   "cell_type": "markdown",
   "metadata": {},
   "source": [
    "This supplementary notebook contains all the data and the code for the calculations to estimate the mitotic index, cell cycle length and and cell cycle parameters. Each section in this notebook corresponds to the methods section of the main article that has the same name.\n",
    "\n",
    "Information on how to execute this interactive notebooks can be found on the [IPython Notebook](http://ipython.org/notebook.html) website. We used the following python modules for our analysis:\n",
    "* [SciPy](http://www.scipy.org/scipylib/index.html)\n",
    "* [pandas](http://pandas.pydata.org/)\n",
    "* [matplotlib](http://matplotlib.org/)\n",
    "* [iminuit](https://github.com/iminuit/iminuit)\n",
    "* [probfit](https://github.com/iminuit/probfit)"
   ]
  },
  {
   "cell_type": "code",
   "execution_count": 1,
   "metadata": {
    "collapsed": false
   },
   "outputs": [
    {
     "name": "stderr",
     "output_type": "stream",
     "text": [
      "Vendor:  Continuum Analytics, Inc.\n",
      "Package: mkl\n",
      "Message: trial mode expires in 30 days\n",
      "Vendor:  Continuum Analytics, Inc.\n",
      "Package: mkl\n",
      "Message: trial mode expires in 30 days\n"
     ]
    }
   ],
   "source": [
    "import scipy as sp\n",
    "import pandas as pd\n",
    "import matplotlib.pyplot as plt\n",
    "%matplotlib inline\n",
    "import probfit\n",
    "import iminuit\n",
    "import warnings"
   ]
  },
  {
   "cell_type": "markdown",
   "metadata": {},
   "source": [
    "## Estimation of mitotic index "
   ]
  },
  {
   "cell_type": "markdown",
   "metadata": {},
   "source": [
    "### Cell length data"
   ]
  },
  {
   "cell_type": "markdown",
   "metadata": {},
   "source": [
    "The following pandas DataFrame contains the measurements of anteroposterior cell lengths of randomly chosen cells from 3 different cell populations (uninjured, regenerating and non-regenerating at 3 days after amputation, see Fig. 2e). 3 biological replicates per cell population were measured.\n",
    "\n",
    "|Column name|Definition|\n",
    "|-|-|\n",
    "|ID|ID of the biological replicate.|\n",
    "|time|time in days after amputation.|\n",
    "|cell population|the cell population from which the cells were chosen|\n",
    "|cell length|length of individual cells in the anteroposterior direction|"
   ]
  },
  {
   "cell_type": "code",
   "execution_count": 2,
   "metadata": {
    "collapsed": false
   },
   "outputs": [],
   "source": [
    "cell_length_data = pd.DataFrame()\n",
    "cell_length_data['ID'] = [u'uninjured1', u'uninjured1', u'uninjured1', u'uninjured1', u'uninjured1', u'uninjured1', u'uninjured1', u'uninjured1', u'uninjured1', u'uninjured1', u'uninjured1', u'uninjured2', u'uninjured2', u'uninjured2', u'uninjured2', u'uninjured2', u'uninjured2', u'uninjured2', u'uninjured2', u'uninjured2', u'uninjured2', u'uninjured3', u'uninjured3', u'uninjured3', u'uninjured3', u'uninjured3', u'uninjured3', u'uninjured3', u'uninjured3', u'uninjured3', u'uninjured3', u'uninjured3', u'uninjured3', u'uninjured3', u'uninjured3', u'uninjured3', u'uninjured3', u'uninjured3', u'uninjured3', u'uninjured3', u'uninjured3', u'uninjured3', u'uninjured3', u'uninjured3', u'uninjured3', u'uninjured3', u'day3_1', u'day3_1', u'day3_1', u'day3_1', u'day3_1', u'day3_1', u'day3_1', u'day3_1', u'day3_1', u'day3_1', u'day3_1', u'day3_1', u'day3_1', u'day3_1', u'day3_1', u'day3_1', u'day3_1', u'day3_1', u'day3_1', u'day3_1', u'day3_1', u'day3_1', u'day3_1', u'day3_1', u'day3_1', u'day3_1', u'day3_1', u'day3_1', u'day3_1', u'day3_1', u'day3_1', u'day3_1', u'day3_1', u'day3_1', u'day3_1', u'day3_1', u'day3_2', u'day3_2', u'day3_2', u'day3_2', u'day3_2', u'day3_2', u'day3_2', u'day3_2', u'day3_2', u'day3_2', u'day3_2', u'day3_2', u'day3_2', u'day3_2', u'day3_2', u'day3_2', u'day3_2', u'day3_2', u'day3_2', u'day3_2', u'day3_2', u'day3_2', u'day3_2', u'day3_2', u'day3_2', u'day3_2', u'day3_2', u'day3_2', u'day3_2', u'day3_2', u'day3_2', u'day3_2', u'day3_2', u'day3_2', u'day3_3', u'day3_3', u'day3_3', u'day3_3', u'day3_3', u'day3_3', u'day3_3', u'day3_3', u'day3_3', u'day3_3', u'day3_3', u'day3_3', u'day3_3', u'day3_3', u'day3_3', u'day3_3', u'day3_3', u'day3_3', u'day3_3', u'day3_3', u'day3_3', u'day3_3', u'day3_3', u'day3_3', u'day3_3', u'day3_3', u'day3_3', u'day3_3', u'day3_3']\n",
    "cell_length_data['time'] = [0, 0, 0, 0, 0, 0, 0, 0, 0, 0, 0, 0, 0, 0, 0, 0, 0, 0, 0, 0, 0, 0, 0, 0, 0, 0, 0, 0, 0, 0, 0, 0, 0, 0, 0, 0, 0, 0, 0, 0, 0, 0, 0, 0, 0, 0, 3, 3, 3, 3, 3, 3, 3, 3, 3, 3, 3, 3, 3, 3, 3, 3, 3, 3, 3, 3, 3, 3, 3, 3, 3, 3, 3, 3, 3, 3, 3, 3, 3, 3, 3, 3, 3, 3, 3, 3, 3, 3, 3, 3, 3, 3, 3, 3, 3, 3, 3, 3, 3, 3, 3, 3, 3, 3, 3, 3, 3, 3, 3, 3, 3, 3, 3, 3, 3, 3, 3, 3, 3, 3, 3, 3, 3, 3, 3, 3, 3, 3, 3, 3, 3, 3, 3, 3, 3, 3, 3, 3, 3, 3, 3, 3, 3, 3, 3]\n",
    "cell_length_data['cell_population'] = ['uninjured', 'uninjured', 'uninjured', 'uninjured', 'uninjured', 'uninjured', 'uninjured', 'uninjured', 'uninjured', 'uninjured', 'uninjured', 'uninjured', 'uninjured', 'uninjured', 'uninjured', 'uninjured', 'uninjured', 'uninjured', 'uninjured', 'uninjured', 'uninjured', 'uninjured', 'uninjured', 'uninjured', 'uninjured', 'uninjured', 'uninjured', 'uninjured', 'uninjured', 'uninjured', 'uninjured', 'uninjured', 'uninjured', 'uninjured', 'uninjured', 'uninjured', 'uninjured', 'uninjured', 'uninjured', 'uninjured', 'uninjured', 'uninjured', 'uninjured', 'uninjured', 'uninjured', 'uninjured', u'regenerating', u'regenerating', u'regenerating', u'regenerating', u'regenerating', u'regenerating', u'regenerating', u'regenerating', u'regenerating', u'regenerating', u'regenerating', u'regenerating', u'regenerating', u'regenerating', u'regenerating', u'non-regenerating', u'non-regenerating', u'non-regenerating', u'non-regenerating', u'non-regenerating', u'non-regenerating', u'non-regenerating', u'non-regenerating', u'non-regenerating', u'non-regenerating', u'non-regenerating', u'non-regenerating', u'non-regenerating', u'non-regenerating', u'non-regenerating', u'non-regenerating', u'non-regenerating', u'non-regenerating', u'non-regenerating', u'non-regenerating', u'non-regenerating', u'regenerating', u'regenerating', u'regenerating', u'regenerating', u'regenerating', u'regenerating', u'regenerating', u'regenerating', u'regenerating', u'regenerating', u'regenerating', u'regenerating', u'regenerating', u'regenerating', u'regenerating', u'regenerating', u'non-regenerating', u'non-regenerating', u'non-regenerating', u'non-regenerating', u'non-regenerating', u'non-regenerating', u'non-regenerating', u'non-regenerating', u'non-regenerating', u'non-regenerating', u'non-regenerating', u'non-regenerating', u'non-regenerating', u'non-regenerating', u'non-regenerating', u'non-regenerating', u'non-regenerating', u'non-regenerating', u'regenerating', u'regenerating', u'regenerating', u'regenerating', u'regenerating', u'regenerating', u'regenerating', u'regenerating', u'regenerating', u'regenerating', u'regenerating', u'regenerating', u'regenerating', u'regenerating', u'regenerating', u'regenerating', u'non-regenerating', u'non-regenerating', u'non-regenerating', u'non-regenerating', u'non-regenerating', u'non-regenerating', u'non-regenerating', u'non-regenerating', u'non-regenerating', u'non-regenerating', u'non-regenerating', u'non-regenerating', u'non-regenerating']\n",
    "cell_length_data['cell_length'] = [13.430999999999999, 15.132, 11.340999999999999, 12.629, 12.177, 14.395, 15.173, 13.153, 12.595000000000001, 15.773999999999999, 12.263, 14.34, 12.595000000000001, 15.132, 14.667, 14.242000000000001, 14.667, 11.728999999999999, 12.574, 13.404, 13.430999999999999, 13.532, 16.097000000000001, 11.766999999999999, 13.877000000000001, 13.877000000000001, 14.567, 13.51, 11.092000000000001, 14.912000000000001, 13.51, 13.945, 16.638000000000002, 14.545999999999999, 13.602, 11.782, 11.092000000000001, 13.259, 12.875, 11.808, 14.567, 13.651, 13.842000000000001, 15.362, 14.201000000000001, 14.567, 15.583, 13.384, 15.284000000000001, 12.308, 14.789, 13.377000000000001, 11.993, 11.531000000000001, 12.914999999999999, 16.151, 12.454000000000001, 12.914999999999999, 12.914999999999999, 16.143999999999998, 10.609, 13.384, 12.473000000000001, 12.459, 12.800000000000001, 12.454000000000001, 14.529999999999999, 13.492000000000001, 12.459, 12.108000000000001, 13.842000000000001, 12.454000000000001, 12.454000000000001, 12.128, 12.108000000000001, 12.108000000000001, 12.805, 13.842000000000001, 14.529999999999999, 12.454000000000001, 12.459, 12.108000000000001, 15.69, 14.298999999999999, 11.531000000000001, 11.156000000000001, 13.503, 13.407999999999999, 16.143999999999998, 12.914999999999999, 13.837999999999999, 15.222, 14.298999999999999, 13.384, 13.377000000000001, 14.766999999999999, 12.462999999999999, 11.541, 13.837999999999999, 12.454000000000001, 12.923, 15.683, 13.837999999999999, 13.837999999999999, 12.914999999999999, 12.454000000000001, 13.15, 11.531000000000001, 11.993, 14.298999999999999, 12.948, 15.710000000000001, 14.76, 12.923, 12.488, 12.914999999999999, 11.766999999999999, 12.800000000000001, 14.183999999999999, 12.459, 13.186999999999999, 10.384, 12.108000000000001, 11.436999999999999, 11.782, 12.151999999999999, 11.07, 11.420999999999999, 12.128, 13.146000000000001, 13.496, 10.43, 11.247, 11.635, 13.497, 10.648999999999999, 13.474, 11.763999999999999, 12.488, 12.702999999999999, 13.801, 12.473000000000001, 11.818, 11.763999999999999, 13.146000000000001]"
   ]
  },
  {
   "cell_type": "markdown",
   "metadata": {},
   "source": [
    "A plot of the mean anteroposterior cell lengths for the 9 different biological replicates/cell populations shows that it stays approximately constant, independent of the population the cells were taken from (error bars standard error of the mean):"
   ]
  },
  {
   "cell_type": "code",
   "execution_count": 3,
   "metadata": {
    "collapsed": false
   },
   "outputs": [
    {
     "data": {
      "image/png": "[encoded data removed]",
      "text/plain": [
       "<matplotlib.figure.Figure at 0x7fd0e2314910>"
      ]
     },
     "metadata": {},
     "output_type": "display_data"
    }
   ],
   "source": [
    "colors = {'uninjured': 'green',\n",
    "         'regenerating': 'blue',\n",
    "         'non-regenerating': 'orange'}\n",
    "i = 0\n",
    "xticklabels = []\n",
    "pitems = {}\n",
    "\n",
    "for pop in ['uninjured', 'regenerating', 'non-regenerating']:\n",
    "    popdata = cell_length_data.query('cell_population == @pop')\n",
    "    for ID in popdata['ID'].unique():\n",
    "        xticklabels.append(ID)\n",
    "        IDdata = popdata.query('ID == @ID')\n",
    "        pitems[(pop, ID)] = plt.errorbar(i, IDdata['cell_length'].mean(), IDdata['cell_length'].sem(),\\\n",
    "                 color = colors[pop], elinewidth = 2,  fmt = 'o')\n",
    "        \n",
    "        i +=1\n",
    "\n",
    "pitems[('uninjured', 'uninjured1')].set_label('uninjured')\n",
    "pitems[('regenerating', 'day3_1')].set_label('regenerating')\n",
    "pitems[('non-regenerating', 'day3_1')].set_label('non-regenerating')\n",
    "\n",
    "plt.legend(loc = 0, numpoints = 1, fontsize = 'x-large')\n",
    "\n",
    "plt.xticks(sp.arange(len(xticklabels)), xticklabels, fontsize = 'x-large', rotation = 90)\n",
    "plt.xlim(-0.5, 8.5)\n",
    "plt.ylim(0, 20)\n",
    "plt.xlabel('biological replicate ID', fontsize = 'xx-large')\n",
    "plt.ylabel('cell length ($\\mu m$)', fontsize = 'xx-large')\n",
    "plt.show()"
   ]
  },
  {
   "cell_type": "markdown",
   "metadata": {},
   "source": [
    "Below the mean anteroposterior cell length and its standard error are calculated:"
   ]
  },
  {
   "cell_type": "code",
   "execution_count": 4,
   "metadata": {
    "collapsed": false
   },
   "outputs": [
    {
     "name": "stdout",
     "output_type": "stream",
     "text": [
      "mean anteroposterior cell length: 13.2+-0.1 µm.\n"
     ]
    }
   ],
   "source": [
    "cell_length_mean = cell_length_data['cell_length'].mean()\n",
    "cell_length_sem = cell_length_data['cell_length'].sem()\n",
    "print('mean anteroposterior cell length: {0:.1f}+-{1:.1f} µm.'\\\n",
    "      .format(cell_length_mean, cell_length_sem))"
   ]
  },
  {
   "cell_type": "markdown",
   "metadata": {},
   "source": [
    "### Section length"
   ]
  },
  {
   "cell_type": "markdown",
   "metadata": {},
   "source": [
    "Sections of the spinal cord have a length of 50 $\\mu$m."
   ]
  },
  {
   "cell_type": "code",
   "execution_count": 5,
   "metadata": {
    "collapsed": true
   },
   "outputs": [],
   "source": [
    "section_length = 50.0"
   ]
  },
  {
   "cell_type": "markdown",
   "metadata": {},
   "source": [
    "### Cell number data"
   ]
  },
  {
   "cell_type": "markdown",
   "metadata": {},
   "source": [
    "The following pandas DataFrame contains all data of number of mitotic cells and number of proliferating progenitor cells. Missing data is represented by sp.nan. The columns are defined as follows:\n",
    "\n",
    "\n",
    "|Column Name|Definition|\n",
    "|-|-|\n",
    "|ID|ID of the biological replicate.|\n",
    "|time|time in days after amputation.|\n",
    "|pos|position of the section along the anteroposterior axis. 0 is at the amputation plane and grows for more posterior positions.|\n",
    "|m|Number of mitotic cells in a section.|\n",
    "|PCNA|Number of proliferating progenitor cells in a cross section.|\n"
   ]
  },
  {
   "cell_type": "code",
   "execution_count": 6,
   "metadata": {
    "collapsed": true
   },
   "outputs": [],
   "source": [
    "cell_number_data = pd.DataFrame()\n",
    "cell_number_data[\"ID\"] = ['0D_1', '0D_1', '0D_1', '0D_1', '0D_1', '0D_1', '0D_1', '0D_1', '0D_1', '0D_1', '0D_1', '0D_1', '0D_1', '0D_1', '0D_1', '0D_1', '0D_1', '0D_1', '0D_1', '0D_1', '0D_1', '0D_1', '0D_1', '0D_1', '0D_1', '0D_1', '0D_1', '0D_1', '0D_1', '0D_1', '0D_1', '0D_2', '0D_2', '0D_2', '0D_2', '0D_2', '0D_2', '0D_2', '0D_2', '0D_2', '0D_2', '0D_2', '0D_2', '0D_2', '0D_2', '0D_2', '0D_2', '0D_2', '0D_2', '0D_2', '0D_2', '0D_2', '0D_2', '0D_2', '0D_2', '0D_2', '0D_2', '0D_2', '0D_2', '0D_2', '0D_3', '0D_3', '0D_3', '0D_3', '0D_3', '0D_3', '0D_3', '0D_3', '0D_3', '0D_3', '0D_3', '0D_3', '0D_3', '0D_3', '0D_3', '0D_3', '0D_3', '0D_3', '0D_3', '0D_3', '0D_3', '0D_3', '0D_3', '0D_3', '0D_3', '0D_3', '0D_3', '0D_3', '0D_3', '3D_1', '3D_1', '3D_1', '3D_1', '3D_1', '3D_1', '3D_1', '3D_1', '3D_1', '3D_1', '3D_1', '3D_1', '3D_1', '3D_1', '3D_1', '3D_1', '3D_1', '3D_1', '3D_1', '3D_1', '3D_1', '3D_1', '3D_1', '3D_1', '3D_1', '3D_1', '3D_1', '3D_1', '3D_1', '3D_1', '3D_1', '3D_1', '3D_1', '3D_1', '3D_1', '3D_1', '3D_2', '3D_2', '3D_2', '3D_2', '3D_2', '3D_2', '3D_2', '3D_2', '3D_2', '3D_2', '3D_2', '3D_2', '3D_2', '3D_2', '3D_2', '3D_2', '3D_2', '3D_2', '3D_2', '3D_2', '3D_2', '3D_2', '3D_2', '3D_2', '3D_2', '3D_2', '3D_2', '3D_2', '3D_2', '3D_2', '3D_2', '3D_2', '3D_2', '3D_2', '3D_2', '3D_2', '3D_2', '3D_2', '3D_2', '3D_2', '3D_2', '3D_2', '3D_2', '3D_2', '3D_2', '3D_2', '3D_2', '3D_3', '3D_3', '3D_3', '3D_3', '3D_3', '3D_3', '3D_3', '3D_3', '3D_3', '3D_3', '3D_3', '3D_3', '3D_3', '3D_3', '3D_3', '3D_3', '3D_3', '3D_3', '3D_3', '3D_3', '3D_3', '3D_3', '3D_3', '3D_3', '3D_3', '3D_3', '3D_3', '3D_3', '3D_3', '3D_3', '3D_3', '3D_3', '3D_3', '3D_3', '3D_3', '3D_3', '3D_3', '3D_3', '3D_3', '3D_3', '3D_3', '3D_3', '3D_3', '3D_3', '3D_3', '4D_1', '4D_1', '4D_1', '4D_1', '4D_1', '4D_1', '4D_1', '4D_1', '4D_1', '4D_1', '4D_1', '4D_1', '4D_1', '4D_1', '4D_1', '4D_1', '4D_1', '4D_1', '4D_1', '4D_1', '4D_1', '4D_1', '4D_1', '4D_1', '4D_1', '4D_1', '4D_1', '4D_1', '4D_1', '4D_1', '4D_1', '4D_1', '4D_1', '4D_1', '4D_2', '4D_2', '4D_2', '4D_2', '4D_2', '4D_2', '4D_2', '4D_2', '4D_2', '4D_2', '4D_2', '4D_2', '4D_2', '4D_2', '4D_2', '4D_2', '4D_2', '4D_2', '4D_2', '4D_2', '4D_2', '4D_2', '4D_2', '4D_2', '4D_2', '4D_2', '4D_2', '4D_2', '4D_2', '4D_2', '4D_2', '4D_2', '4D_2', '4D_2', '4D_2', '4D_3', '4D_3', '4D_3', '4D_3', '4D_3', '4D_3', '4D_3', '4D_3', '4D_3', '4D_3', '4D_3', '4D_3', '4D_3', '4D_3', '4D_3', '4D_3', '4D_3', '4D_3', '4D_3', '4D_3', '4D_3', '4D_3', '4D_3', '4D_3', '4D_3', '4D_3', '4D_3', '4D_3', '4D_3', '4D_3', '4D_3', '4D_3', '4D_3', '4D_3', '4D_3', '6D_1', '6D_1', '6D_1', '6D_1', '6D_1', '6D_1', '6D_1', '6D_1', '6D_1', '6D_1', '6D_1', '6D_1', '6D_1', '6D_1', '6D_1', '6D_1', '6D_1', '6D_1', '6D_1', '6D_1', '6D_1', '6D_1', '6D_1', '6D_1', '6D_1', '6D_1', '6D_1', '6D_1', '6D_1', '6D_1', '6D_1', '6D_1', '6D_1', '6D_1', '6D_1', '6D_1', '6D_1', '6D_1', '6D_1', '6D_1', '6D_1', '6D_1', '6D_1', '6D_1', '6D_1', '6D_1', '6D_1', '6D_1', '6D_1', '6D_1', '6D_1', '6D_1', '6D_2', '6D_2', '6D_2', '6D_2', '6D_2', '6D_2', '6D_2', '6D_2', '6D_2', '6D_2', '6D_2', '6D_2', '6D_2', '6D_2', '6D_2', '6D_2', '6D_2', '6D_2', '6D_2', '6D_2', '6D_2', '6D_2', '6D_2', '6D_2', '6D_2', '6D_2', '6D_2', '6D_2', '6D_2', '6D_2', '6D_2', '6D_2', '6D_2', '6D_2', '6D_2', '6D_2', '6D_2', '6D_2', '6D_2', '6D_2', '6D_2', '6D_2', '6D_2', '6D_2', '6D_2', '6D_2', '6D_2', '6D_2', '6D_2', '6D_2', '6D_2', '6D_2', '6D_2', '6D_2', '6D_2', '6D_2', '6D_2', '6D_2', '6D_2', '6D_2', '6D_3', '6D_3', '6D_3', '6D_3', '6D_3', '6D_3', '6D_3', '6D_3', '6D_3', '6D_3', '6D_3', '6D_3', '6D_3', '6D_3', '6D_3', '6D_3', '6D_3', '6D_3', '6D_3', '6D_3', '6D_3', '6D_3', '6D_3', '6D_3', '6D_3', '6D_3', '6D_3', '6D_3', '6D_3', '6D_3', '6D_3', '6D_3', '6D_3', '6D_3', '6D_3', '6D_3', '6D_3', '6D_3', '6D_3', '6D_3', '6D_3', '6D_3', '8D_1', '8D_1', '8D_1', '8D_1', '8D_1', '8D_1', '8D_1', '8D_1', '8D_1', '8D_1', '8D_1', '8D_1', '8D_1', '8D_1', '8D_1', '8D_1', '8D_1', '8D_1', '8D_1', '8D_1', '8D_1', '8D_1', '8D_1', '8D_1', '8D_1', '8D_1', '8D_1', '8D_1', '8D_1', '8D_1', '8D_1', '8D_1', '8D_1', '8D_1', '8D_1', '8D_1', '8D_1', '8D_1', '8D_1', '8D_1', '8D_1', '8D_1', '8D_1', '8D_1', '8D_1', '8D_1', '8D_1', '8D_1', '8D_1', '8D_1', '8D_1', '8D_1', '8D_1', '8D_1', '8D_1', '8D_1', '8D_1', '8D_1', '8D_1', '8D_1', '8D_2', '8D_2', '8D_2', '8D_2', '8D_2', '8D_2', '8D_2', '8D_2', '8D_2', '8D_2', '8D_2', '8D_2', '8D_2', '8D_2', '8D_2', '8D_2', '8D_2', '8D_2', '8D_2', '8D_2', '8D_2', '8D_2', '8D_2', '8D_2', '8D_2', '8D_2', '8D_2', '8D_2', '8D_2', '8D_2', '8D_2', '8D_2', '8D_2', '8D_2', '8D_2', '8D_2', '8D_2', '8D_2', '8D_2', '8D_2', '8D_2', '8D_2', '8D_2', '8D_2', '8D_2', '8D_2', '8D_2', '8D_2', '8D_2', '8D_2', '8D_2', '8D_2', '8D_2', '8D_2', '8D_2', '8D_2', '8D_2', '8D_2', '8D_2', '8D_2', '8D_2', '8D_2', '8D_2', '8D_2', '8D_2', '8D_2', '8D_2', '8D_3', '8D_3', '8D_3', '8D_3', '8D_3', '8D_3', '8D_3', '8D_3', '8D_3', '8D_3', '8D_3', '8D_3', '8D_3', '8D_3', '8D_3', '8D_3', '8D_3', '8D_3', '8D_3', '8D_3', '8D_3', '8D_3', '8D_3', '8D_3', '8D_3', '8D_3', '8D_3', '8D_3', '8D_3', '8D_3', '8D_3', '8D_3', '8D_3', '8D_3', '8D_3', '8D_3', '8D_3', '8D_3', '8D_3', '8D_3', '8D_3', '8D_3', '8D_3', '8D_3', '8D_3', '8D_3', '8D_3', '8D_3', '8D_3', '8D_3', '8D_3', '8D_3', '8D_3', '8D_3', '8D_3', '8D_3', '8D_3', '8D_3', '8D_3', '8D_3', '8D_3']\n",
    "cell_number_data[\"time\"] = [0, 0, 0, 0, 0, 0, 0, 0, 0, 0, 0, 0, 0, 0, 0, 0, 0, 0, 0, 0, 0, 0, 0, 0, 0, 0, 0, 0, 0, 0, 0, 0, 0, 0, 0, 0, 0, 0, 0, 0, 0, 0, 0, 0, 0, 0, 0, 0, 0, 0, 0, 0, 0, 0, 0, 0, 0, 0, 0, 0, 0, 0, 0, 0, 0, 0, 0, 0, 0, 0, 0, 0, 0, 0, 0, 0, 0, 0, 0, 0, 0, 0, 0, 0, 0, 0, 0, 0, 0, 3, 3, 3, 3, 3, 3, 3, 3, 3, 3, 3, 3, 3, 3, 3, 3, 3, 3, 3, 3, 3, 3, 3, 3, 3, 3, 3, 3, 3, 3, 3, 3, 3, 3, 3, 3, 3, 3, 3, 3, 3, 3, 3, 3, 3, 3, 3, 3, 3, 3, 3, 3, 3, 3, 3, 3, 3, 3, 3, 3, 3, 3, 3, 3, 3, 3, 3, 3, 3, 3, 3, 3, 3, 3, 3, 3, 3, 3, 3, 3, 3, 3, 3, 3, 3, 3, 3, 3, 3, 3, 3, 3, 3, 3, 3, 3, 3, 3, 3, 3, 3, 3, 3, 3, 3, 3, 3, 3, 3, 3, 3, 3, 3, 3, 3, 3, 3, 3, 3, 3, 3, 3, 3, 3, 3, 3, 3, 3, 4, 4, 4, 4, 4, 4, 4, 4, 4, 4, 4, 4, 4, 4, 4, 4, 4, 4, 4, 4, 4, 4, 4, 4, 4, 4, 4, 4, 4, 4, 4, 4, 4, 4, 4, 4, 4, 4, 4, 4, 4, 4, 4, 4, 4, 4, 4, 4, 4, 4, 4, 4, 4, 4, 4, 4, 4, 4, 4, 4, 4, 4, 4, 4, 4, 4, 4, 4, 4, 4, 4, 4, 4, 4, 4, 4, 4, 4, 4, 4, 4, 4, 4, 4, 4, 4, 4, 4, 4, 4, 4, 4, 4, 4, 4, 4, 4, 4, 4, 4, 4, 4, 4, 4, 6, 6, 6, 6, 6, 6, 6, 6, 6, 6, 6, 6, 6, 6, 6, 6, 6, 6, 6, 6, 6, 6, 6, 6, 6, 6, 6, 6, 6, 6, 6, 6, 6, 6, 6, 6, 6, 6, 6, 6, 6, 6, 6, 6, 6, 6, 6, 6, 6, 6, 6, 6, 6, 6, 6, 6, 6, 6, 6, 6, 6, 6, 6, 6, 6, 6, 6, 6, 6, 6, 6, 6, 6, 6, 6, 6, 6, 6, 6, 6, 6, 6, 6, 6, 6, 6, 6, 6, 6, 6, 6, 6, 6, 6, 6, 6, 6, 6, 6, 6, 6, 6, 6, 6, 6, 6, 6, 6, 6, 6, 6, 6, 6, 6, 6, 6, 6, 6, 6, 6, 6, 6, 6, 6, 6, 6, 6, 6, 6, 6, 6, 6, 6, 6, 6, 6, 6, 6, 6, 6, 6, 6, 6, 6, 6, 6, 6, 6, 6, 6, 6, 6, 6, 6, 8, 8, 8, 8, 8, 8, 8, 8, 8, 8, 8, 8, 8, 8, 8, 8, 8, 8, 8, 8, 8, 8, 8, 8, 8, 8, 8, 8, 8, 8, 8, 8, 8, 8, 8, 8, 8, 8, 8, 8, 8, 8, 8, 8, 8, 8, 8, 8, 8, 8, 8, 8, 8, 8, 8, 8, 8, 8, 8, 8, 8, 8, 8, 8, 8, 8, 8, 8, 8, 8, 8, 8, 8, 8, 8, 8, 8, 8, 8, 8, 8, 8, 8, 8, 8, 8, 8, 8, 8, 8, 8, 8, 8, 8, 8, 8, 8, 8, 8, 8, 8, 8, 8, 8, 8, 8, 8, 8, 8, 8, 8, 8, 8, 8, 8, 8, 8, 8, 8, 8, 8, 8, 8, 8, 8, 8, 8, 8, 8, 8, 8, 8, 8, 8, 8, 8, 8, 8, 8, 8, 8, 8, 8, 8, 8, 8, 8, 8, 8, 8, 8, 8, 8, 8, 8, 8, 8, 8, 8, 8, 8, 8, 8, 8, 8, 8, 8, 8, 8, 8, 8, 8, 8, 8, 8, 8, 8, 8, 8, 8, 8, 8, 8, 8, 8, 8, 8, 8]\n",
    "cell_number_data[\"pos\"] = [0.0, -50.0, -100.0, -150.0, -200.0, -250.0, -300.0, -350.0, -400.0, -450.0, -500.0, -550.0, -600.0, -650.0, -700.0, -750.0, -800.0, -850.0, -900.0, -950.0, -1000.0, -1050.0, -1100.0, -1150.0, -1200.0, -1250.0, -1300.0, -1350.0, -1400.0, -1450.0, -1500.0, 0.0, -50.0, -100.0, -150.0, -200.0, -250.0, -300.0, -350.0, -400.0, -450.0, -500.0, -550.0, -600.0, -650.0, -700.0, -750.0, -800.0, -900.0, -1000.0, -1050.0, -1100.0, -1150.0, -1200.0, -1250.0, -1300.0, -1350.0, -1400.0, -1450.0, -1500.0, 0.0, -50.0, -100.0, -150.0, -200.0, -250.0, -300.0, -350.0, -400.0, -500.0, -550.0, -600.0, -650.0, -700.0, -750.0, -800.0, -900.0, -950.0, -1000.0, -1050.0, -1100.0, -1150.0, -1200.0, -1250.0, -1300.0, -1350.0, -1400.0, -1450.0, -1500.0, 0.0, -50.0, -100.0, -150.0, -200.0, -250.0, -300.0, -350.0, -400.0, -500.0, -550.0, -600.0, -650.0, -700.0, -750.0, -800.0, -850.0, -900.0, -950.0, -1000.0, -1050.0, -1100.0, -1150.0, -1200.0, -1250.0, -1300.0, -1350.0, -1450.0, -1500.0, -1550.0, -1600.0, -1650.0, -1700.0, -1750.0, -1800.0, -1850.0, 100.0, 50.0, 0.0, -50.0, -100.0, -150.0, -200.0, -250.0, -300.0, -350.0, -400.0, -450.0, -500.0, -550.0, -600.0, -650.0, -700.0, -750.0, -800.0, -850.0, -900.0, -950.0, -1000.0, -1050.0, -1100.0, -1150.0, -1200.0, -1250.0, -1300.0, -1350.0, -1400.0, -1450.0, -1500.0, -1550.0, -1600.0, -1650.0, -1700.0, -1750.0, -1800.0, -1850.0, -1900.0, -1950.0, -2000.0, -2050.0, -2100.0, -2150.0, -2200.0, 0.0, -50.0, -100.0, -150.0, -200.0, -250.0, -300.0, -350.0, -400.0, -450.0, -500.0, -550.0, -600.0, -650.0, -700.0, -750.0, -800.0, -850.0, -900.0, -950.0, -1000.0, -1050.0, -1100.0, -1150.0, -1200.0, -1250.0, -1300.0, -1400.0, -1450.0, -1500.0, -1550.0, -1600.0, -1650.0, -1700.0, -1750.0, -1800.0, -1850.0, -1900.0, -1950.0, -2000.0, -2050.0, -2100.0, -2150.0, -2200.0, -2250.0, 200.0, 150.0, 100.0, 50.0, 0.0, -50.0, -100.0, -150.0, -200.0, -250.0, -300.0, -400.0, -450.0, -500.0, -550.0, -600.0, -650.0, -700.0, -750.0, -800.0, -850.0, -900.0, -950.0, -1000.0, -1050.0, -1100.0, -1150.0, -1200.0, -1250.0, -1300.0, -1350.0, -1400.0, -1450.0, -1500.0, 200.0, 150.0, 100.0, 50.0, 0.0, -50.0, -100.0, -150.0, -200.0, -250.0, -300.0, -350.0, -400.0, -450.0, -500.0, -550.0, -600.0, -650.0, -700.0, -750.0, -800.0, -850.0, -900.0, -950.0, -1000.0, -1050.0, -1100.0, -1150.0, -1200.0, -1250.0, -1300.0, -1350.0, -1400.0, -1450.0, -1500.0, 250.0, 200.0, 150.0, 100.0, 50.0, 0.0, -50.0, -100.0, -150.0, -200.0, -250.0, -300.0, -350.0, -400.0, -450.0, -500.0, -550.0, -600.0, -650.0, -700.0, -750.0, -800.0, -850.0, -900.0, -950.0, -1000.0, -1050.0, -1100.0, -1150.0, -1200.0, -1300.0, -1350.0, -1400.0, -1450.0, -1500.0, 700.0, 650.0, 600.0, 550.0, 450.0, 400.0, 350.0, 300.0, 250.0, 200.0, 100.0, 50.0, 0.0, -50.0, -100.0, -150.0, -200.0, -250.0, -300.0, -350.0, -400.0, -450.0, -500.0, -550.0, -600.0, -650.0, -700.0, -750.0, -800.0, -850.0, -900.0, -950.0, -1000.0, -1050.0, -1100.0, -1150.0, -1200.0, -1250.0, -1300.0, -1350.0, -1400.0, -1450.0, -1500.0, -1550.0, -1600.0, -1650.0, -1700.0, -1750.0, -1800.0, -1850.0, -1900.0, -2000.0, 800.0, 750.0, 700.0, 650.0, 600.0, 550.0, 500.0, 450.0, 400.0, 350.0, 300.0, 250.0, 200.0, 150.0, 100.0, 0.0, -50.0, -100.0, -150.0, -200.0, -250.0, -300.0, -350.0, -400.0, -450.0, -550.0, -600.0, -650.0, -700.0, -750.0, -800.0, -900.0, -950.0, -1000.0, -1050.0, -1100.0, -1150.0, -1200.0, -1250.0, -1300.0, -1350.0, -1400.0, -1450.0, -1500.0, -1550.0, -1600.0, -1650.0, -1700.0, -1750.0, -1800.0, -1850.0, -1900.0, -1950.0, -2000.0, -2050.0, -2100.0, -2150.0, -2200.0, -2250.0, -2300.0, 550.0, 500.0, 450.0, 400.0, 350.0, 300.0, 250.0, 200.0, 150.0, 100.0, 50.0, 0.0, -50.0, -100.0, -200.0, -250.0, -300.0, -350.0, -400.0, -450.0, -500.0, -550.0, -650.0, -700.0, -750.0, -800.0, -850.0, -900.0, -950.0, -1000.0, -1050.0, -1100.0, -1150.0, -1200.0, -1250.0, -1300.0, -1350.0, -1400.0, -1450.0, -1500.0, -1550.0, -1600.0, 2150.0, 2100.0, 2050.0, 1950.0, 1900.0, 1850.0, 1800.0, 1750.0, 1700.0, 1650.0, 1600.0, 1550.0, 1450.0, 1400.0, 1350.0, 1300.0, 1150.0, 1100.0, 1050.0, 950.0, 900.0, 850.0, 800.0, 750.0, 700.0, 650.0, 600.0, 550.0, 500.0, 450.0, 400.0, 350.0, 300.0, 250.0, 200.0, 150.0, 100.0, 50.0, 0.0, -50.0, -100.0, -150.0, -200.0, -250.0, -300.0, -350.0, -400.0, -600.0, -650.0, -700.0, -750.0, -800.0, -850.0, -950.0, -1000.0, -1050.0, -1100.0, -1150.0, -1250.0, -1300.0, 2100.0, 2050.0, 2000.0, 1950.0, 1900.0, 1850.0, 1800.0, 1750.0, 1700.0, 1650.0, 1600.0, 1550.0, 1500.0, 1450.0, 1400.0, 1350.0, 1300.0, 1250.0, 1150.0, 1100.0, 1050.0, 1000.0, 950.0, 850.0, 800.0, 750.0, 700.0, 650.0, 600.0, 550.0, 500.0, 450.0, 350.0, 300.0, 250.0, 200.0, 150.0, 100.0, 50.0, 0.0, -50.0, -100.0, -150.0, -200.0, -250.0, -300.0, -350.0, -400.0, -450.0, -500.0, -550.0, -600.0, -650.0, -700.0, -750.0, -900.0, -950.0, -1000.0, -1100.0, -1150.0, -1200.0, -1250.0, -1300.0, -1350.0, -1400.0, -1550.0, -1600.0, 1550.0, 1500.0, 1400.0, 1350.0, 1300.0, 1250.0, 1200.0, 1150.0, 1100.0, 1050.0, 1000.0, 950.0, 900.0, 850.0, 800.0, 750.0, 700.0, 650.0, 600.0, 550.0, 500.0, 450.0, 400.0, 350.0, 300.0, 250.0, 200.0, 50.0, 0.0, -50.0, -100.0, -150.0, -250.0, -300.0, -350.0, -400.0, -500.0, -600.0, -650.0, -700.0, -800.0, -850.0, -950.0, -1000.0, -1050.0, -1100.0, -1150.0, -1250.0, -1300.0, -1350.0, -1400.0, -1500.0, -1550.0, -1600.0, -1700.0, -1750.0, -1800.0, -1850.0, -1900.0, -1950.0, -2000.0]\n",
    "cell_number_data[\"m\"] = [0.0, 1.0, 2.0, 1.0, 3.0, 2.0, 2.0, 1.0, 0.0, 1.0, 2.0, 1.0, 1.0, 3.0, 0.0, 1.0, 1.0, 1.0, 2.0, 2.0, 2.0, 2.0, 1.0, 0.0, 1.0, 1.0, 1.0, 1.0, 3.0, 1.0, 2.0, 0.0, 2.0, 3.0, 2.0, 1.0, 1.0, 1.0, 2.0, 0.0, 1.0, 4.0, 0.0, 3.0, 1.0, 2.0, 2.0, 1.0, 1.0, 1.0, 0.0, 4.0, 0.0, 1.0, 2.0, 1.0, 1.0, 2.0, 1.0, 1.0, 2.0, 0.0, 3.0, 3.0, 2.0, 1.0, 2.0, 2.0, 3.0, 2.0, 3.0, 2.0, 3.0, 2.0, 0.0, 3.0, 2.0, 2.0, 3.0, 1.0, 4.0, 2.0, 1.0, 1.0, 1.0, 3.0, 0.0, 2.0, 3.0, 0.0, 2.0, 2.0, 4.0, 0.0, 1.0, 4.0, 2.0, 2.0, 2.0, 4.0, 1.0, 0.0, 0.0, 1.0, 0.0, 2.0, 0.0, 3.0, 1.0, 2.0, 2.0, 1.0, 0.0, 1.0, 1.0, 0.0, 0.0, 2.0, 4.0, 1.0, 2.0, 0.0, 0.0, 1.0, 0.0, 2.0, 1.0, 1.0, 2.0, 0.0, 1.0, sp.nan, 2.0, 0.0, 0.0, 0.0, 2.0, 2.0, 4.0, 3.0, 2.0, 2.0, 1.0, 1.0, 1.0, 0.0, 5.0, 2.0, 0.0, 1.0, 1.0, 0.0, 1.0, 0.0, 2.0, 1.0, 0.0, 1.0, 0.0, 1.0, 0.0, 1.0, 1.0, 0.0, 2.0, 1.0, 0.0, 1.0, 0.0, 1.0, 0.0, 1.0, 1.0, 2.0, 4.0, 4.0, 1.0, 3.0, 2.0, 2.0, 4.0, 3.0, 0.0, 1.0, 0.0, 1.0, 2.0, 1.0, 4.0, 1.0, 0.0, 0.0, 2.0, 0.0, 1.0, 1.0, 2.0, 1.0, 0.0, 4.0, 1.0, 1.0, 0.0, 1.0, 1.0, 1.0, 1.0, 2.0, 3.0, 4.0, 1.0, 2.0, 1.0, 0.0, 2.0, 0.0, 2.0, 5.0, 6.0, 4.0, 4.0, 3.0, 5.0, 5.0, 3.0, 3.0, 6.0, 5.0, 1.0, 4.0, 5.0, 7.0, 2.0, 4.0, 2.0, 3.0, 5.0, 4.0, 1.0, 0.0, 3.0, 3.0, 2.0, 1.0, 3.0, 1.0, 1.0, 1.0, 0.0, 0.0, 0.0, 5.0, 1.0, 5.0, 3.0, 3.0, 2.0, 3.0, 6.0, 3.0, 4.0, 5.0, 2.0, 2.0, 3.0, 2.0, 4.0, 4.0, 3.0, 8.0, 3.0, 5.0, 1.0, 3.0, 3.0, 1.0, 4.0, 3.0, 0.0, 3.0, 0.0, 2.0, 2.0, 1.0, 1.0, 1.0, 4.0, 6.0, 4.0, 4.0, 6.0, 5.0, 2.0, 7.0, 3.0, 2.0, 2.0, 3.0, 6.0, 7.0, 4.0, 6.0, 4.0, 7.0, 5.0, 4.0, 2.0, 1.0, 3.0, 4.0, 1.0, 2.0, 4.0, 2.0, 2.0, 1.0, 0.0, 0.0, 1.0, 2.0, 1.0, 4.0, 4.0, 1.0, 1.0, 1.0, 4.0, 4.0, 5.0, 1.0, 3.0, 7.0, 7.0, 4.0, 7.0, 6.0, 8.0, 7.0, 3.0, 3.0, 2.0, 1.0, sp.nan, 6.0, 2.0, 2.0, 3.0, 1.0, 3.0, 4.0, 2.0, 3.0, 3.0, 3.0, 3.0, 1.0, 3.0, 2.0, 2.0, 2.0, 5.0, 2.0, 2.0, 2.0, 1.0, 0.0, 3.0, 4.0, 2.0, 2.0, 1.0, 1.0, 0.0, 3.0, 5.0, 4.0, 4.0, 4.0, 3.0, 2.0, 2.0, 3.0, 0.0, 2.0, 5.0, 6.0, 3.0, 3.0, 2.0, 5.0, 6.0, 7.0, 2.0, 6.0, 3.0, 6.0, 8.0, 2.0, 7.0, 8.0, 4.0, 5.0, 6.0, 2.0, 1.0, 5.0, 2.0, 1.0, 2.0, 1.0, 2.0, 2.0, 3.0, 2.0, 0.0, 0.0, 4.0, 4.0, 4.0, 2.0, 1.0, 2.0, 4.0, 3.0, 5.0, 6.0, 6.0, 1.0, 1.0, 1.0, 1.0, 1.0, 4.0, 2.0, 1.0, 1.0, 2.0, 3.0, 1.0, 2.0, 0.0, 1.0, 5.0, 2.0, 2.0, 5.0, 1.0, 1.0, 5.0, 6.0, 5.0, 5.0, 1.0, 3.0, 2.0, 1.0, 5.0, 2.0, 2.0, 3.0, 4.0, 2.0, 3.0, 0.0, 2.0, 3.0, 4.0, 3.0, 5.0, 0.0, 3.0, 2.0, 3.0, 1.0, 1.0, 4.0, 4.0, 3.0, 2.0, 3.0, 2.0, 4.0, 4.0, 2.0, 1.0, 5.0, 4.0, 3.0, 6.0, 4.0, 6.0, 1.0, 1.0, 0.0, 3.0, 7.0, 5.0, 6.0, 3.0, 4.0, 5.0, 4.0, 4.0, 4.0, 3.0, 6.0, 8.0, 3.0, 1.0, 1.0, 2.0, 3.0, 5.0, 6.0, 7.0, 6.0, 3.0, 4.0, 4.0, 3.0, sp.nan, 2.0, 3.0, 3.0, 2.0, 3.0, 3.0, 2.0, 3.0, 4.0, 2.0, 1.0, 4.0, 3.0, 1.0, 5.0, 2.0, 4.0, 4.0, 5.0, 3.0, 2.0, 2.0, 3.0, 3.0, 6.0, 7.0, 2.0, 5.0, 5.0, 3.0, 2.0, 3.0, 3.0, 3.0, 2.0, 3.0, 2.0, 1.0, 5.0, 4.0, 5.0, 3.0, 4.0, 1.0, 4.0, 4.0, 3.0, 4.0, 7.0, 7.0, 5.0, 5.0, 7.0, 3.0, 5.0, 2.0, 4.0, 2.0, 4.0, 3.0, 2.0, 4.0, 3.0, 3.0, 5.0, 3.0, sp.nan, 1.0, 1.0, 3.0, 3.0, 5.0, 2.0, 4.0, 2.0, 2.0, 1.0, 3.0, 1.0, 1.0, 2.0, 3.0, 2.0, 3.0, 4.0, 3.0, 6.0, 4.0, 6.0, 5.0, 6.0, 6.0, 7.0, 4.0, 6.0, 5.0, 3.0, 4.0, 2.0, 2.0, 4.0, 2.0, 4.0, 6.0, 3.0, 5.0, 3.0, 2.0, 5.0, 2.0, 1.0, 2.0, 2.0, 5.0, 1.0, 1.0, 2.0, 2.0, 2.0, 1.0, 0.0, 1.0, 3.0, 1.0, 4.0, 2.0, 3.0, 1.0, sp.nan, 1.0, 2.0, 1.0, 3.0, 3.0, 5.0, 2.0, 1.0, 2.0, 2.0, 1.0, 3.0, 1.0]\n",
    "cell_number_data[\"PCNA\"] = [sp.nan, sp.nan, sp.nan, sp.nan, sp.nan, sp.nan, sp.nan, 28.0, 27.0, 29.0, sp.nan, sp.nan, sp.nan, sp.nan, sp.nan, 27.0, 32.0, sp.nan, sp.nan, sp.nan, 28.0, 30.0, 32.0, sp.nan, 31.0, sp.nan, 32.0, 26.0, sp.nan, sp.nan, sp.nan, sp.nan, 27.0, sp.nan, 32.0, sp.nan, sp.nan, sp.nan, 30.0, sp.nan, 26.0, 28.0, sp.nan, sp.nan, sp.nan, 26.0, 30.0, sp.nan, sp.nan, 27.0, 30.0, 28.0, sp.nan, sp.nan, sp.nan, 30.0, sp.nan, sp.nan, sp.nan, sp.nan, sp.nan, sp.nan, sp.nan, 26.0, 21.0, sp.nan, sp.nan, 22.0, sp.nan, 26.0, 22.0, sp.nan, 21.0, 26.0, sp.nan, sp.nan, sp.nan, sp.nan, sp.nan, 31.0, 28.0, sp.nan, sp.nan, sp.nan, 31.0, 26.0, sp.nan, sp.nan, sp.nan, 23.0, 29.0, 30.0, sp.nan, 26.0, 29.0, sp.nan, sp.nan, sp.nan, sp.nan, 24.0, 26.0, 25.0, sp.nan, sp.nan, sp.nan, 28.0, sp.nan, sp.nan, sp.nan, sp.nan, sp.nan, 25.0, sp.nan, sp.nan, 22.0, sp.nan, sp.nan, 32.0, sp.nan, sp.nan, sp.nan, sp.nan, sp.nan, sp.nan, sp.nan, sp.nan, 26.0, 29.0, 30.0, sp.nan, sp.nan, 31.0, sp.nan, 28.0, 24.0, 28.0, 24.0, 25.0, 21.0, sp.nan, sp.nan, 21.0, 24.0, sp.nan, sp.nan, sp.nan, sp.nan, 20.0, 23.0, sp.nan, 21.0, sp.nan, sp.nan, sp.nan, sp.nan, 22.0, sp.nan, sp.nan, 17.0, 20.0, sp.nan, sp.nan, sp.nan, 20.0, sp.nan, sp.nan, sp.nan, sp.nan, sp.nan, 18.0, sp.nan, sp.nan, 28.0, 28.0, sp.nan, sp.nan, sp.nan, sp.nan, 28.0, sp.nan, 26.0, 31.0, sp.nan, 26.0, sp.nan, sp.nan, 27.0, sp.nan, sp.nan, sp.nan, sp.nan, 23.0, 23.0, sp.nan, 27.0, sp.nan, sp.nan, sp.nan, sp.nan, sp.nan, 29.0, 27.0, sp.nan, sp.nan, sp.nan, sp.nan, 25.0, sp.nan, 25.0, 26.0, sp.nan, sp.nan, sp.nan, sp.nan, sp.nan, sp.nan, sp.nan, 28.0, sp.nan, sp.nan, 32.0, 36.0, 28.0, 33.0, sp.nan, 31.0, sp.nan, 33.0, sp.nan, 34.0, sp.nan, 29.0, sp.nan, sp.nan, 28.0, sp.nan, 29.0, sp.nan, sp.nan, 27.0, sp.nan, 26.0, 24.0, 25.0, 26.0, sp.nan, sp.nan, 22.0, 23.0, 24.0, sp.nan, 28.0, 29.0, 28.0, 28.0, 28.0, 28.0, 26.0, sp.nan, 29.0, sp.nan, 34.0, 26.0, sp.nan, 28.0, sp.nan, 34.0, sp.nan, sp.nan, 28.0, sp.nan, 27.0, sp.nan, sp.nan, 24.0, sp.nan, 20.0, sp.nan, sp.nan, 23.0, 22.0, 25.0, sp.nan, sp.nan, 23.0, 26.0, 35.0, 33.0, 29.0, 34.0, 31.0, 31.0, sp.nan, 30.0, 29.0, 34.0, sp.nan, sp.nan, 32.0, 29.0, 26.0, 31.0, sp.nan, 32.0, sp.nan, 28.0, sp.nan, sp.nan, 23.0, sp.nan, 25.0, sp.nan, sp.nan, 27.0, sp.nan, 26.0, sp.nan, 28.0, sp.nan, sp.nan, sp.nan, 32.0, sp.nan, 35.0, sp.nan, 30.0, 30.0, 26.0, 26.0, sp.nan, 31.0, 34.0, 32.0, 35.0, 29.0, sp.nan, 29.0, 30.0, 35.0, 30.0, 32.0, 29.0, 32.0, sp.nan, sp.nan, 29.0, 28.0, sp.nan, sp.nan, sp.nan, sp.nan, 24.0, sp.nan, sp.nan, sp.nan, 31.0, sp.nan, sp.nan, 27.0, sp.nan, 27.0, 29.0, sp.nan, sp.nan, 28.0, 29.0, sp.nan, sp.nan, 32.0, 32.0, sp.nan, 34.0, 24.0, sp.nan, 33.0, 30.0, sp.nan, 26.0, sp.nan, sp.nan, 30.0, 27.0, sp.nan, sp.nan, 27.0, 29.0, 33.0, 32.0, 27.0, 26.0, 36.0, 34.0, 35.0, 34.0, sp.nan, 36.0, 31.0, sp.nan, 36.0, sp.nan, 34.0, 35.0, 34.0, sp.nan, sp.nan, sp.nan, sp.nan, 34.0, 31.0, sp.nan, sp.nan, sp.nan, sp.nan, sp.nan, 28.0, sp.nan, sp.nan, 29.0, sp.nan, 29.0, 28.0, sp.nan, 26.0, 27.0, 25.0, sp.nan, 26.0, 35.0, 30.0, sp.nan, 29.0, sp.nan, 29.0, 32.0, 31.0, sp.nan, sp.nan, 23.0, sp.nan, 22.0, sp.nan, 29.0, 25.0, sp.nan, 26.0, 25.0, sp.nan, sp.nan, 29.0, 31.0, 35.0, 25.0, sp.nan, sp.nan, sp.nan, sp.nan, 28.0, sp.nan, sp.nan, 29.0, 30.0, sp.nan, 31.0, sp.nan, 28.0, 32.0, 28.0, sp.nan, 27.0, 25.0, 30.0, sp.nan, 23.0, sp.nan, 29.0, 34.0, sp.nan, 25.0, sp.nan, 25.0, sp.nan, 33.0, 30.0, sp.nan, sp.nan, 32.0, sp.nan, 30.0, sp.nan, 31.0, 29.0, 30.0, sp.nan, sp.nan, sp.nan, 32.0, 30.0, sp.nan, sp.nan, 28.0, sp.nan, sp.nan, sp.nan, sp.nan, 31.0, sp.nan, sp.nan, sp.nan, sp.nan, sp.nan, 28.0, sp.nan, sp.nan, 33.0, 34.0, 32.0, 29.0, 30.0, 30.0, sp.nan, 30.0, sp.nan, sp.nan, sp.nan, sp.nan, sp.nan, sp.nan, 27.0, sp.nan, sp.nan, sp.nan, sp.nan, sp.nan, sp.nan, sp.nan, sp.nan, sp.nan, sp.nan, sp.nan, 29.0, 30.0, sp.nan, sp.nan, 28.0, sp.nan, 28.0, sp.nan, sp.nan, 27.0, sp.nan, 28.0, sp.nan, sp.nan, sp.nan, 28.0, sp.nan, sp.nan, sp.nan, sp.nan, 30.0, sp.nan, sp.nan, sp.nan, sp.nan, 31.0, 31.0, sp.nan, sp.nan, sp.nan, sp.nan, sp.nan, 32.0, sp.nan, sp.nan, 29.0, sp.nan, sp.nan, 33.0, sp.nan, sp.nan, sp.nan, 31.0, 29.0, sp.nan, 34.0, 33.0, sp.nan, 28.0, sp.nan, sp.nan, sp.nan, sp.nan, 28.0, sp.nan, 27.0, sp.nan, sp.nan, sp.nan, sp.nan, sp.nan, sp.nan, sp.nan, sp.nan, sp.nan, sp.nan, sp.nan, 36.0, sp.nan, sp.nan, 32.0, 28.0, sp.nan, 32.0, sp.nan, sp.nan, sp.nan, sp.nan, sp.nan, sp.nan, sp.nan, 29.0, sp.nan, 29.0, 28.0, 34.0, sp.nan, 29.0, 31.0, sp.nan, sp.nan, sp.nan, sp.nan, 30.0, sp.nan, sp.nan, sp.nan, sp.nan, sp.nan, 28.0, sp.nan, sp.nan, sp.nan, sp.nan, sp.nan, 29.0, 31.0, 28.0, 31.0, 28.0, 27.0, 29.0, sp.nan, sp.nan, sp.nan, sp.nan, 27.0, sp.nan, 26.0, sp.nan, sp.nan, sp.nan, sp.nan, sp.nan]"
   ]
  },
  {
   "cell_type": "markdown",
   "metadata": {},
   "source": [
    "### Mitotic index"
   ]
  },
  {
   "cell_type": "markdown",
   "metadata": {},
   "source": [
    "The following function calculates the mean mitotic index and its standard error in a specific region delimited by the two positions lmin and lmax for all biological replicates."
   ]
  },
  {
   "cell_type": "code",
   "execution_count": 7,
   "metadata": {
    "collapsed": true
   },
   "outputs": [],
   "source": [
    "def calc_all_mi(cell_number_data, lmin, lmax):\n",
    "    \"\"\" Calculate the mean mitotic index and standard error of the mean\n",
    "        in a specific region delimited by the two positions lmin and lmax\n",
    "        for all biological replicates.\n",
    "    \"\"\"\n",
    "    \n",
    "    def sem_finite(data):\n",
    "        \"\"\" Calculate the standard error of the mean for a pandas series\n",
    "            with finite population size correction assuming the length of\n",
    "            the series corresponds to the population size.\n",
    "        \"\"\"\n",
    "        sem = data.sem()\n",
    "        # nstotal is the population size\n",
    "        nstotal = float(len(data))\n",
    "        # ns is the number of samples\n",
    "        ns = float(data.count())\n",
    "        # calculate standard error of the mean with finite\n",
    "        # population size correction (sem_finite):\n",
    "        sem_finite = sem * sp.sqrt((nstotal - ns)/ (nstotal - 1))\n",
    "        return sem_finite\n",
    "    \n",
    "    # filter the data according to lmin, lmax\n",
    "    data = cell_number_data.query('@lmin <= pos <= @lmax').copy()\n",
    "    # calculate number of proliferating cells in each section\n",
    "    data['Np'] = data['PCNA'] * section_length / cell_length_mean\n",
    "    # calculate mitotic index in each section\n",
    "    data['mi'] = data['m'] / data['Np']\n",
    "    \n",
    "    # only consider replicates for which at least 3 sections were measured\n",
    "    # in the specified region\n",
    "    grouped = data[['ID', 'time', 'mi']].groupby('ID')\n",
    "    data = grouped.filter(lambda x: len(x['mi'].dropna()) >= 3)\n",
    "    \n",
    "    # calculate mean mitotic index and standard error of the mean \n",
    "    grouped = data[['ID', 'time', 'mi']].groupby('ID')\n",
    "    all_mi = grouped.agg({'time': [sp.unique],\n",
    "                                      'mi': ['mean', sem_finite]})\n",
    "    data_per_replicate = pd.DataFrame()\n",
    "    data_per_replicate['time'] = all_mi['time', 'unique']\n",
    "    data_per_replicate['mi'] = all_mi['mi', 'mean']\n",
    "    data_per_replicate['mi_replicate_delta'] = all_mi['mi', 'sem_finite']\n",
    "    return data_per_replicate"
   ]
  },
  {
   "cell_type": "markdown",
   "metadata": {},
   "source": [
    "The following function calculates the mean (over all biological replicates) mitotic index at a given time in a given region."
   ]
  },
  {
   "cell_type": "code",
   "execution_count": 8,
   "metadata": {
    "collapsed": false
   },
   "outputs": [],
   "source": [
    "def calc_mean_mi_float(cell_number_data, t, lmin, lmax):\n",
    "    \"\"\" Calculate the mean (over all biological replicates) mitotic index\n",
    "        at a given time t in a given region [lmin, lmax].\n",
    "    \"\"\"\n",
    "    \n",
    "    # filter the data according to time\n",
    "    data = cell_number_data.query('time == @t').copy()\n",
    "    \n",
    "    # calculate the mitotic index for all replicates at time                              \n",
    "    data_per_replicate = calc_all_mi(data, lmin, lmax)\n",
    "    \n",
    "    # calculate the mean mitotic index\n",
    "    mi = data_per_replicate['mi'].mean()\n",
    "    # calculate the error of the mitotic index as the sum of intra-\n",
    "    # and interexperimental error\n",
    "    mi_delta = data_per_replicate['mi_replicate_delta'].mean() + data_per_replicate['mi'].sem()\n",
    "\n",
    "    return mi, mi_delta\n",
    "\n",
    "# vectorize the function for time such that the mitotic index can be\n",
    "# calculated for an array of multiple time points\n",
    "calc_mean_mi = sp.vectorize(calc_mean_mi_float, excluded=[0, 2, 3])"
   ]
  },
  {
   "cell_type": "markdown",
   "metadata": {},
   "source": [
    "### Mean mitotic index time course"
   ]
  },
  {
   "cell_type": "markdown",
   "metadata": {},
   "source": [
    "Here the mean mitotic index timecourse in the region 500 µm anterior to the amputation plane up to the tip is calculated (Fig. 2d)."
   ]
  },
  {
   "cell_type": "code",
   "execution_count": 9,
   "metadata": {
    "collapsed": false
   },
   "outputs": [],
   "source": [
    "time = cell_number_data['time'].unique()\n",
    "mi, mi_delta = calc_mean_mi(cell_number_data, time, -500, sp.inf)"
   ]
  },
  {
   "cell_type": "code",
   "execution_count": 10,
   "metadata": {
    "collapsed": false
   },
   "outputs": [
    {
     "data": {
      "image/png": "[encoded data removed]",
      "text/plain": [
       "<matplotlib.figure.Figure at 0x7fd0d932fa50>"
      ]
     },
     "metadata": {},
     "output_type": "display_data"
    }
   ],
   "source": [
    "plt.errorbar(time, mi, mi_delta, fmt='o', color = 'black')\n",
    "plt.xlim(-0.5, 8.5)\n",
    "plt.ylim(0, 0.05)\n",
    "plt.xlabel('Time (days)', fontsize = 'x-large')\n",
    "plt.ylabel('Mitotic index', fontsize = 'x-large')\n",
    "plt.show()"
   ]
  },
  {
   "cell_type": "markdown",
   "metadata": {},
   "source": [
    "## Cell cycle length and cell cycle parameters analysis"
   ]
  },
  {
   "cell_type": "markdown",
   "metadata": {},
   "source": [
    "### Estimation of cell cycle length, S-Phase length and growth fraction from cumulative BrdU labeling data"
   ]
  },
  {
   "cell_type": "markdown",
   "metadata": {},
   "source": [
    "Here, the cell cycle length, length of S-Phase and growth fraction for uninjured, non-regenerating and regenerating cell populations are estimated (Fig. 2e)."
   ]
  },
  {
   "cell_type": "markdown",
   "metadata": {},
   "source": [
    "### Fraction of BrdU-labeled cells data"
   ]
  },
  {
   "cell_type": "markdown",
   "metadata": {},
   "source": [
    "The following pandas DataFrame contains the data of the fraction of BrdU-labeled cells for different cell populations and different times of continuous BrdU treatment. Missing data is represented by sp.nan. The columns are defined as follows:\n",
    "\n",
    "\n",
    "|Column Name|Definition|\n",
    "|-|-|\n",
    "|time|time after start of BrdU injections|\n",
    "|labeling_fraction|the fraction of BrdU-labeled cells|\n",
    "|cell population|specific cell population under study (uninjured, non-regenerating or regenerating, see Fig. 2e)|\n"
   ]
  },
  {
   "cell_type": "code",
   "execution_count": 11,
   "metadata": {
    "collapsed": true
   },
   "outputs": [],
   "source": [
    "li_data = pd.DataFrame()\n",
    "li_data['time'] = [2.0, 2.0, 2.0, 2.0, 2.0, 2.0, 2.0, 2.0, 2.0, 2.0, 25.0, 25.0, 25.0, 25.0, 25.0, 25.0, 25.0, 25.0, 50.0, 50.0, 50.0, 50.0, 50.0, 98.0, 98.0, 98.0, 98.0, 98.0, 98.0, 98.0, 98.0, 98.0, 98.0, 170.0, 170.0, 170.0, 170.0, 170.0, 170.0, 170.0, 170.0, 217.0, 217.0, 217.0, 217.0, 217.0, 217.0, 217.0, 217.0, 217.0, 308.0, 308.0, 308.0, 308.0, 308.0, 2.0, 2.0, 2.0, 2.0, 2.0, 2.0, 2.0, 2.0, 17.0, 17.0, 17.0, 17.0, 17.0, 17.0, 17.0, 17.0, 50.0, 50.0, 50.0, 50.0, 50.0, 50.0, 50.0, 50.0, 50.0, 50.0, 100.0, 100.0, 100.0, 100.0, 100.0, 100.0, 100.0, 100.0, 100.0, 100.0, 100.0, 100.0, 123.0, 123.0, 123.0, 123.0, 170.0, 170.0, 170.0, 170.0, 170.0, 220.0, 220.0, 220.0, 314.0, 314.0, 314.0, 314.0, 314.0, 2.0, 2.0, 2.0, 2.0, 2.0, 2.0, 2.0, 2.0, 2.0, 2.0, 9.0, 9.0, 9.0, 9.0, 9.0, 9.0, 9.0, 9.0, 17.0, 17.0, 17.0, 17.0, 17.0, 17.0, 17.0, 17.0, 17.0, 17.0, 25.0, 25.0, 25.0, 25.0, 25.0, 25.0, 25.0, 25.0, 50.0, 50.0, 50.0, 50.0, 50.0, 50.0, 50.0, 50.0, 100.0, 100.0, 100.0, 100.0, 100.0, 100.0, 100.0, 100.0, 123.0, 123.0, 123.0, 123.0, 123.0]\n",
    "li_data['labeling_fraction'] = [0.313, 0.216, 0.39400000000000002, 0.36599999999999999, 0.31900000000000001, 0.36399999999999999, 0.26900000000000002, 0.248, 0.35199999999999998, 0.21299999999999999, 0.371, 0.47199999999999998, 0.44400000000000001, 0.46800000000000003, 0.34000000000000002, 0.36299999999999999, 0.34699999999999998, 0.32600000000000001, 0.5, 0.55800000000000005, 0.38400000000000001, 0.38300000000000001, 0.496, 0.51300000000000001, 0.54600000000000004, 0.60199999999999998, 0.67900000000000005, 0.68899999999999995, 0.44, 0.51100000000000001, 0.63200000000000001, 0.55500000000000005, 0.59399999999999997, 0.69199999999999995, 0.77500000000000002, 0.65900000000000003, 0.71399999999999997, 0.74299999999999999, 0.78400000000000003, 0.80100000000000005, 0.65300000000000002, 0.77100000000000002, 0.83799999999999997, 0.83499999999999996, 0.76900000000000002, 0.82799999999999996, 0.79100000000000004, 0.85299999999999998, 0.79900000000000004, 0.70299999999999996, 0.78700000000000003, 0.754, 0.78700000000000003, 0.84799999999999998, 0.79200000000000004, 0.248, 0.247, 0.34399999999999997, 0.441, 0.40000000000000002, 0.38400000000000001, 0.34799999999999998, 0.25900000000000001, 0.42399999999999999, 0.505, 0.42599999999999999, 0.5, 0.46300000000000002, 0.44900000000000001, 0.51400000000000001, 0.46300000000000002, 0.57199999999999995, 0.61399999999999999, 0.59499999999999997, 0.63, 0.63500000000000001, 0.64300000000000002, 0.67000000000000004, 0.60599999999999998, 0.54000000000000004, 0.54500000000000004, 0.59299999999999997, 0.56000000000000005, 0.55100000000000005, 0.59999999999999998, 0.72499999999999998, 0.70399999999999996, 0.59599999999999997, 0.55700000000000005, 0.67500000000000004, 0.629, 0.72299999999999998, 0.69299999999999995, 0.54100000000000004, 0.66300000000000003, 0.68400000000000005, 0.749, 0.76200000000000001, 0.65000000000000002, 0.61399999999999999, 0.81899999999999995, 0.83299999999999996, 0.83099999999999996, 0.74299999999999999, 0.77600000000000002, 0.83499999999999996, 0.82199999999999995, 0.83799999999999997, 0.79400000000000004, 0.86399999999999999, 0.70499999999999996, 0.59999999999999998, 0.61399999999999999, 0.64000000000000001, 0.70699999999999996, 0.67800000000000005, 0.70099999999999996, 0.65500000000000003, 0.64100000000000001, 0.70899999999999996, 0.78900000000000003, 0.752, 0.79600000000000004, 0.66800000000000004, 0.72499999999999998, 0.71599999999999997, 0.72899999999999998, 0.81299999999999994, 0.79900000000000004, 0.81499999999999995, 0.86799999999999999, 0.874, 0.77900000000000003, 0.76800000000000002, 0.871, 0.85399999999999998, 0.81299999999999994, 0.84099999999999997, 0.88900000000000001, 0.94999999999999996, 0.89900000000000002, 0.94899999999999995, 0.86599999999999999, 0.94199999999999995, 0.81499999999999995, 0.92400000000000004, 0.92100000000000004, 0.93999999999999995, 0.93500000000000005, 0.95099999999999996, 0.97199999999999998, 0.98899999999999999, 0.97699999999999998, 0.95599999999999996, 0.97699999999999998, 0.98399999999999999, 1.0, 0.98799999999999999, 1.0, 0.99199999999999999, 0.94499999999999995, 1.0, 1.0, 1.0, 0.97599999999999998, 0.97599999999999998, 0.95699999999999996]\n",
    "li_data['cell_population'] = ['uninjured', 'uninjured', 'uninjured', 'uninjured', 'uninjured', 'uninjured', 'uninjured', 'uninjured', 'uninjured', 'uninjured', 'uninjured', 'uninjured', 'uninjured', 'uninjured', 'uninjured', 'uninjured', 'uninjured', 'uninjured', 'uninjured', 'uninjured', 'uninjured', 'uninjured', 'uninjured', 'uninjured', 'uninjured', 'uninjured', 'uninjured', 'uninjured', 'uninjured', 'uninjured', 'uninjured', 'uninjured', 'uninjured', 'uninjured', 'uninjured', 'uninjured', 'uninjured', 'uninjured', 'uninjured', 'uninjured', 'uninjured', 'uninjured', 'uninjured', 'uninjured', 'uninjured', 'uninjured', 'uninjured', 'uninjured', 'uninjured', 'uninjured', 'uninjured', 'uninjured', 'uninjured', 'uninjured', 'uninjured', 'non-regenerating', 'non-regenerating', 'non-regenerating', 'non-regenerating', 'non-regenerating', 'non-regenerating', 'non-regenerating', 'non-regenerating', 'non-regenerating', 'non-regenerating', 'non-regenerating', 'non-regenerating', 'non-regenerating', 'non-regenerating', 'non-regenerating', 'non-regenerating', 'non-regenerating', 'non-regenerating', 'non-regenerating', 'non-regenerating', 'non-regenerating', 'non-regenerating', 'non-regenerating', 'non-regenerating', 'non-regenerating', 'non-regenerating', 'non-regenerating', 'non-regenerating', 'non-regenerating', 'non-regenerating', 'non-regenerating', 'non-regenerating', 'non-regenerating', 'non-regenerating', 'non-regenerating', 'non-regenerating', 'non-regenerating', 'non-regenerating', 'non-regenerating', 'non-regenerating', 'non-regenerating', 'non-regenerating', 'non-regenerating', 'non-regenerating', 'non-regenerating', 'non-regenerating', 'non-regenerating', 'non-regenerating', 'non-regenerating', 'non-regenerating', 'non-regenerating', 'non-regenerating', 'non-regenerating', 'non-regenerating', 'non-regenerating', 'regenerating', 'regenerating', 'regenerating', 'regenerating', 'regenerating', 'regenerating', 'regenerating', 'regenerating', 'regenerating', 'regenerating', 'regenerating', 'regenerating', 'regenerating', 'regenerating', 'regenerating', 'regenerating', 'regenerating', 'regenerating', 'regenerating', 'regenerating', 'regenerating', 'regenerating', 'regenerating', 'regenerating', 'regenerating', 'regenerating', 'regenerating', 'regenerating', 'regenerating', 'regenerating', 'regenerating', 'regenerating', 'regenerating', 'regenerating', 'regenerating', 'regenerating', 'regenerating', 'regenerating', 'regenerating', 'regenerating', 'regenerating', 'regenerating', 'regenerating', 'regenerating', 'regenerating', 'regenerating', 'regenerating', 'regenerating', 'regenerating', 'regenerating', 'regenerating', 'regenerating', 'regenerating', 'regenerating', 'regenerating', 'regenerating', 'regenerating']"
   ]
  },
  {
   "cell_type": "markdown",
   "metadata": {},
   "source": [
    "Here the standard deviation for each cell population and time point is estimated:"
   ]
  },
  {
   "cell_type": "code",
   "execution_count": 12,
   "metadata": {
    "collapsed": false
   },
   "outputs": [],
   "source": [
    "li_data = li_data.set_index(['cell_population', 'time'])\n",
    "li_data['delta'] = li_data.groupby(level = ['cell_population', 'time']).std()\n",
    "li_data = li_data.reset_index('time')"
   ]
  },
  {
   "cell_type": "markdown",
   "metadata": {},
   "source": [
    "### Model of BrdU incorporation"
   ]
  },
  {
   "cell_type": "markdown",
   "metadata": {},
   "source": [
    "A model based on the model for the BrdU-labeling fraction proposed by [Lefevre et al., 2013](http://dx.doi.org/10.1016/j.jtbi.2013.08.033) with an extension for an initial growth fraction  was used to estimate the cell cycle length parameters. It is implemented as follows:"
   ]
  },
  {
   "cell_type": "code",
   "execution_count": 13,
   "metadata": {
    "collapsed": false
   },
   "outputs": [],
   "source": [
    "def li_model_float(t, TS, TC, TG2M, r, GF):\n",
    "    \"\"\" BrdU-labeling fraction model for BrdU incorporation in vivo.\n",
    "        Based on Lefevre et al., 2013 and extended with an initial\n",
    "        growth fraction.\n",
    "        \n",
    "        t    ... time after start of BrdU labeling\n",
    "        TS   ... length of S-Phase\n",
    "        TC   ... cell cycle length\n",
    "        TG2M ... combined length of G2- and M-Phase\n",
    "        r    ... mean number of daughter cells after cell division remaining\n",
    "                 in the population\n",
    "        GF   ... initial growth fraction\n",
    "        \n",
    "        Lefevre, J., Marshall, D. J., Combes, A. N., Ju, A. L., Little, M. H.\n",
    "        & Hamilton, N. A. (2013). Modelling cell turnover in a complex tissue\n",
    "        during development. Journal of Theoretical Biology, 338, 66-79.\n",
    "    \"\"\"\n",
    "    \n",
    "    if TS + TG2M > TC:\n",
    "        return sp.nan\n",
    "    else:\n",
    "        if r==1:\n",
    "            if t < TC - TS:\n",
    "                return GF * (t + TS) / TC\n",
    "            else:\n",
    "                return GF\n",
    "        else:\n",
    "            # calculate the growth fraction at time t\n",
    "            g = ( ( GF * r ** (t / TC) ) / ( GF * r ** (t / TC) + (1 - GF) ) )\n",
    "            if t < TG2M:\n",
    "                return  g * ((r ** ( ( TG2M + TS ) / TC ) - r ** (( TG2M - t ) / TC) ) / (r - 1.0) )\n",
    "            elif t < TC - TS:\n",
    "                return g * (1.0 - ( r ** ( ( TC + TG2M - t ) / TC ) - r ** ( ( TG2M  + TS) / TC ) ) / (r - 1.0) )\n",
    "            else:\n",
    "                return g"
   ]
  },
  {
   "cell_type": "markdown",
   "metadata": {},
   "source": [
    "### Least-Square Fit"
   ]
  },
  {
   "cell_type": "markdown",
   "metadata": {},
   "source": [
    "The parameters were estimated using the least squares method. Here the sum of squared errors (SSE) functions for the cell populations under study are defined:"
   ]
  },
  {
   "cell_type": "code",
   "execution_count": 14,
   "metadata": {
    "collapsed": false
   },
   "outputs": [],
   "source": [
    "SSE_functions = {}\n",
    "for cell_population in li_data.index.unique():\n",
    "    SSE_functions[cell_population] = probfit.Chi2Regression(\n",
    "                                  li_model_float,\\\n",
    "                                  sp.array(li_data.loc[cell_population]['time']),\\\n",
    "                                  sp.array(li_data.loc[cell_population]['labeling_fraction']),\\\n",
    "                                  sp.array(li_data.loc[cell_population]['delta']))"
   ]
  },
  {
   "cell_type": "markdown",
   "metadata": {},
   "source": [
    "The function migrad from the module iminuit will be used to minimize the SSE functions. For this function an initial parameter guess and an initial step size have to be defined. Furthermore, parameter limits are defined. The following arguments are used for all following minimization runs:"
   ]
  },
  {
   "cell_type": "code",
   "execution_count": 15,
   "metadata": {
    "collapsed": true
   },
   "outputs": [],
   "source": [
    "global_fitarg =   {'error_TS': 0.1,\n",
    "                   'limit_TS': (0.0, 500.0),\n",
    "                   'error_TC': 0.1,\n",
    "                   'limit_TC': (20.0, 500.0),\n",
    "                   'TG2M': 10.0,\n",
    "                   'error_TG2M': 0.1,\n",
    "                   'limit_TG2M': (0.0, 20.0),\n",
    "                   'fix_r': True,\n",
    "                   'error_r': 0.0,\n",
    "                   'GF': 1.0,\n",
    "                   'error_GF': 0.01,\n",
    "                   'limit_GF': (0.0, 1.0)\n",
    "                    }"
   ]
  },
  {
   "cell_type": "markdown",
   "metadata": {},
   "source": [
    "For the uninjured and the non-regenerating cell populations $r=1$ is assumed while for the regenerating cell population $r=2$ is assumed:"
   ]
  },
  {
   "cell_type": "code",
   "execution_count": 16,
   "metadata": {
    "collapsed": true
   },
   "outputs": [],
   "source": [
    "r = {}\n",
    "r['uninjured'] = 1.0\n",
    "r['non-regenerating'] = 1.0\n",
    "r['regenerating'] = 2.0"
   ]
  },
  {
   "cell_type": "markdown",
   "metadata": {},
   "source": [
    "The following function minimizes a SSE function for a given initial guess of TS and TC, a fixed value of r and the remaining arguments given above:"
   ]
  },
  {
   "cell_type": "code",
   "execution_count": 17,
   "metadata": {
    "collapsed": true
   },
   "outputs": [],
   "source": [
    "def minimize_SSE(SSE, TS, TC, r, global_fitarg):\n",
    "    # ignore warnings of minimization runs that go wrong\n",
    "    with warnings.catch_warnings():\n",
    "        warnings.simplefilter('ignore')\n",
    "        M = iminuit.Minuit(SSE, print_level= 0, TS = TS, TC = TC, r = r, **global_fitarg)\n",
    "        # perform the minimization of SSE with migrad\n",
    "        M.migrad()\n",
    "        # check that the migrad results are valid\n",
    "        if M.migrad_ok():\n",
    "            # check if the reported error estimates are accurate\n",
    "            if not M.matrix_accurate():\n",
    "                # if not, try to estimate them accurately\n",
    "                M.hesse()\n",
    "            # check again if the reported error estimates are accurate\n",
    "            if M.matrix_accurate():\n",
    "                return M"
   ]
  },
  {
   "cell_type": "markdown",
   "metadata": {},
   "source": [
    "The following function performs a systematic scan of initial guesses for TS and TC. For each initial guess the SSE function is minimized and the minuit object corresponding to the global minimum is returned:"
   ]
  },
  {
   "cell_type": "code",
   "execution_count": 18,
   "metadata": {
    "collapsed": false
   },
   "outputs": [],
   "source": [
    "def scan_model(SSE, r, global_fitarg, step):\n",
    "    # boolean flag that is set to True if one valid minimization of\n",
    "    # SSE was succesful\n",
    "    one_fit_ok = False\n",
    "    # systematically scan initial guesses for TS and TC\n",
    "    for TC in sp.arange(0.0, 500.0, step):\n",
    "        for TS in sp.arange(0.0, TC, step):\n",
    "            # attempt to minimize the SSE\n",
    "            M = minimize_SSE(SSE, TS, TC, r, global_fitarg)\n",
    "            # check if the current attempt was succesful\n",
    "            if M is None:\n",
    "                # if not continue\n",
    "                continue\n",
    "            else:\n",
    "                # check if a previous minimization was succesful\n",
    "                if one_fit_ok:\n",
    "                    # is the current minimization result smaller?\n",
    "                    if M.fval < bestM.fval:\n",
    "                        bestM = M\n",
    "                else:\n",
    "                    one_fit_ok = True\n",
    "                    bestM = M\n",
    "                \n",
    "    if not one_fit_ok:\n",
    "        raise Exception('No valid fit found!')\n",
    "\n",
    "    return bestM"
   ]
  },
  {
   "cell_type": "markdown",
   "metadata": {},
   "source": [
    "Perform the minimization for all cell populations:"
   ]
  },
  {
   "cell_type": "code",
   "execution_count": 19,
   "metadata": {
    "collapsed": false
   },
   "outputs": [
    {
     "name": "stdout",
     "output_type": "stream",
     "text": [
      "\n",
      "uninjured\n"
     ]
    },
    {
     "data": {
      "text/html": [
       "<hr>"
      ]
     },
     "metadata": {},
     "output_type": "display_data"
    },
    {
     "data": {
      "text/html": [
       "\n",
       "        <table>\n",
       "            <tr>\n",
       "                <td title=\"Minimum value of function\">FCN = 50.1646751226</td>\n",
       "                <td title=\"Total number of call to FCN so far\">TOTAL NCALL = 614</td>\n",
       "                <td title=\"Number of call in last migrad\">NCALLS = 614</td>\n",
       "            </tr>\n",
       "            <tr>\n",
       "                <td title=\"Estimated distance to minimum\">EDM = 1.39663119032e-11</td>\n",
       "                <td title=\"Maximum EDM definition of convergence\">GOAL EDM = 1e-05</td>\n",
       "                <td title=\"Error def. Amount of increase in FCN to be defined as 1 standard deviation\">\n",
       "                UP = 1.0</td>\n",
       "            </tr>\n",
       "        </table>\n",
       "        \n",
       "        <table>\n",
       "            <tr>\n",
       "                <td align=\"center\" title=\"Validity of the migrad call\">Valid</td>\n",
       "                <td align=\"center\" title=\"Validity of parameters\">Valid Param</td>\n",
       "                <td align=\"center\" title=\"Is Covariance matrix accurate?\">Accurate Covar</td>\n",
       "                <td align=\"center\" title=\"Positive definiteness of covariance matrix\">PosDef</td>\n",
       "                <td align=\"center\" title=\"Was covariance matrix made posdef by adding diagonal element\">Made PosDef</td>\n",
       "            </tr>\n",
       "            <tr>\n",
       "                <td align=\"center\" style=\"background-color:#92CCA6\">True</td>\n",
       "                <td align=\"center\" style=\"background-color:#92CCA6\">True</td>\n",
       "                <td align=\"center\" style=\"background-color:#92CCA6\">True</td>\n",
       "                <td align=\"center\" style=\"background-color:#92CCA6\">True</td>\n",
       "                <td align=\"center\" style=\"background-color:#92CCA6\">False</td>\n",
       "            </tr>\n",
       "            <tr>\n",
       "                <td align=\"center\" title=\"Was last hesse call fail?\">Hesse Fail</td>\n",
       "                <td align=\"center\" title=\"Validity of covariance\">HasCov</td>\n",
       "                <td align=\"center\" title=\"Is EDM above goal EDM?\">Above EDM</td>\n",
       "                <td align=\"center\"></td>\n",
       "                <td align=\"center\" title=\"Did last migrad call reach max call limit?\">Reach calllim</td>\n",
       "            </tr>\n",
       "            <tr>\n",
       "                <td align=\"center\" style=\"background-color:#92CCA6\">False</td>\n",
       "                <td align=\"center\" style=\"background-color:#92CCA6\">True</td>\n",
       "                <td align=\"center\" style=\"background-color:#92CCA6\">False</td>\n",
       "                <td align=\"center\"></td>\n",
       "                <td align=\"center\" style=\"background-color:#92CCA6\">False</td>\n",
       "            </tr>\n",
       "        </table>\n",
       "        "
      ]
     },
     "metadata": {},
     "output_type": "display_data"
    },
    {
     "data": {
      "text/html": [
       "\n",
       "        <table>\n",
       "            <tr>\n",
       "                <td><a href=\"#\" onclick=\"$('#EEXrBRJBir').toggle()\">+</a></td>\n",
       "                <td title=\"Variable name\">Name</td>\n",
       "                <td title=\"Value of parameter\">Value</td>\n",
       "                <td title=\"Parabolic error\">Parab Error</td>\n",
       "                <td title=\"Minos lower error\">Minos Error-</td>\n",
       "                <td title=\"Minos upper error\">Minos Error+</td>\n",
       "                <td title=\"Lower limit of the parameter\">Limit-</td>\n",
       "                <td title=\"Upper limit of the parameter\">Limit+</td>\n",
       "                <td title=\"Is the parameter fixed in the fit\">FIXED</td>\n",
       "            </tr>\n",
       "        \n",
       "            <tr>\n",
       "                <td>1</td>\n",
       "                <td>TS</td>\n",
       "                <td>1.300272e+02</td>\n",
       "                <td>1.341673e+01</td>\n",
       "                <td>0.000000e+00</td>\n",
       "                <td>0.000000e+00</td>\n",
       "                <td>0.0</td>\n",
       "                <td>500.0</td>\n",
       "                <td></td>\n",
       "            </tr>\n",
       "            \n",
       "            <tr>\n",
       "                <td>2</td>\n",
       "                <td>TC</td>\n",
       "                <td>3.240321e+02</td>\n",
       "                <td>2.093845e+01</td>\n",
       "                <td>0.000000e+00</td>\n",
       "                <td>0.000000e+00</td>\n",
       "                <td>20.0</td>\n",
       "                <td>500.0</td>\n",
       "                <td></td>\n",
       "            </tr>\n",
       "            \n",
       "            <tr>\n",
       "                <td>3</td>\n",
       "                <td>TG2M</td>\n",
       "                <td>1.000000e+01</td>\n",
       "                <td>1.493883e+01</td>\n",
       "                <td>0.000000e+00</td>\n",
       "                <td>0.000000e+00</td>\n",
       "                <td>0.0</td>\n",
       "                <td>20.0</td>\n",
       "                <td></td>\n",
       "            </tr>\n",
       "            \n",
       "            <tr>\n",
       "                <td>4</td>\n",
       "                <td>r</td>\n",
       "                <td>1.000000e+00</td>\n",
       "                <td>0.000000e+00</td>\n",
       "                <td>0.000000e+00</td>\n",
       "                <td>0.000000e+00</td>\n",
       "                <td></td>\n",
       "                <td></td>\n",
       "                <td>FIXED</td>\n",
       "            </tr>\n",
       "            \n",
       "            <tr>\n",
       "                <td>5</td>\n",
       "                <td>GF</td>\n",
       "                <td>7.960115e-01</td>\n",
       "                <td>1.088326e-02</td>\n",
       "                <td>0.000000e+00</td>\n",
       "                <td>0.000000e+00</td>\n",
       "                <td>0.0</td>\n",
       "                <td>1.0</td>\n",
       "                <td></td>\n",
       "            </tr>\n",
       "            \n",
       "            </table>\n",
       "        \n",
       "            <pre id=\"EEXrBRJBir\" style=\"display:none;\">\n",
       "            <textarea rows=\"16\" cols=\"50\" onclick=\"this.select()\" readonly>\\begin{tabular}{|c|r|r|r|r|r|r|r|c|}\n",
       "\\hline\n",
       " & Name & Value & Para Error & Error+ & Error- & Limit+ & Limit- & FIXED\\\\\n",
       "\\hline\n",
       "1 & TS & 1.300e+02 & 1.342e+01 &  &  & 0.000e+00 & 5.000e+02 & \\\\\n",
       "\\hline\n",
       "2 & TC & 3.240e+02 & 2.094e+01 &  &  & 2.000e+01 & 5.000e+02 & \\\\\n",
       "\\hline\n",
       "3 & TG2M & 1.000e+01 & 1.494e+01 &  &  & 0.000e+00 & 2.000e+01 & \\\\\n",
       "\\hline\n",
       "4 & r & 1.000e+00 & 0.000e+00 &  &  &  &  & FIXED\\\\\n",
       "\\hline\n",
       "5 & GF & 7.960e-01 & 1.088e-02 &  &  & 0.000e+00 & 1.000e+00 & \\\\\n",
       "\\hline\n",
       "\\end{tabular}</textarea>\n",
       "            </pre>\n",
       "            "
      ]
     },
     "metadata": {},
     "output_type": "display_data"
    },
    {
     "data": {
      "text/html": [
       "<hr>"
      ]
     },
     "metadata": {},
     "output_type": "display_data"
    },
    {
     "name": "stdout",
     "output_type": "stream",
     "text": [
      "non-regenerating\n"
     ]
    },
    {
     "data": {
      "text/html": [
       "<hr>"
      ]
     },
     "metadata": {},
     "output_type": "display_data"
    },
    {
     "data": {
      "text/html": [
       "\n",
       "        <table>\n",
       "            <tr>\n",
       "                <td title=\"Minimum value of function\">FCN = 90.6517153186</td>\n",
       "                <td title=\"Total number of call to FCN so far\">TOTAL NCALL = 462</td>\n",
       "                <td title=\"Number of call in last migrad\">NCALLS = 462</td>\n",
       "            </tr>\n",
       "            <tr>\n",
       "                <td title=\"Estimated distance to minimum\">EDM = 4.59962174885e-09</td>\n",
       "                <td title=\"Maximum EDM definition of convergence\">GOAL EDM = 1e-05</td>\n",
       "                <td title=\"Error def. Amount of increase in FCN to be defined as 1 standard deviation\">\n",
       "                UP = 1.0</td>\n",
       "            </tr>\n",
       "        </table>\n",
       "        \n",
       "        <table>\n",
       "            <tr>\n",
       "                <td align=\"center\" title=\"Validity of the migrad call\">Valid</td>\n",
       "                <td align=\"center\" title=\"Validity of parameters\">Valid Param</td>\n",
       "                <td align=\"center\" title=\"Is Covariance matrix accurate?\">Accurate Covar</td>\n",
       "                <td align=\"center\" title=\"Positive definiteness of covariance matrix\">PosDef</td>\n",
       "                <td align=\"center\" title=\"Was covariance matrix made posdef by adding diagonal element\">Made PosDef</td>\n",
       "            </tr>\n",
       "            <tr>\n",
       "                <td align=\"center\" style=\"background-color:#92CCA6\">True</td>\n",
       "                <td align=\"center\" style=\"background-color:#92CCA6\">True</td>\n",
       "                <td align=\"center\" style=\"background-color:#92CCA6\">True</td>\n",
       "                <td align=\"center\" style=\"background-color:#92CCA6\">True</td>\n",
       "                <td align=\"center\" style=\"background-color:#92CCA6\">False</td>\n",
       "            </tr>\n",
       "            <tr>\n",
       "                <td align=\"center\" title=\"Was last hesse call fail?\">Hesse Fail</td>\n",
       "                <td align=\"center\" title=\"Validity of covariance\">HasCov</td>\n",
       "                <td align=\"center\" title=\"Is EDM above goal EDM?\">Above EDM</td>\n",
       "                <td align=\"center\"></td>\n",
       "                <td align=\"center\" title=\"Did last migrad call reach max call limit?\">Reach calllim</td>\n",
       "            </tr>\n",
       "            <tr>\n",
       "                <td align=\"center\" style=\"background-color:#92CCA6\">False</td>\n",
       "                <td align=\"center\" style=\"background-color:#92CCA6\">True</td>\n",
       "                <td align=\"center\" style=\"background-color:#92CCA6\">False</td>\n",
       "                <td align=\"center\"></td>\n",
       "                <td align=\"center\" style=\"background-color:#92CCA6\">False</td>\n",
       "            </tr>\n",
       "        </table>\n",
       "        "
      ]
     },
     "metadata": {},
     "output_type": "display_data"
    },
    {
     "data": {
      "text/html": [
       "\n",
       "        <table>\n",
       "            <tr>\n",
       "                <td><a href=\"#\" onclick=\"$('#MRlBpnUhKM').toggle()\">+</a></td>\n",
       "                <td title=\"Variable name\">Name</td>\n",
       "                <td title=\"Value of parameter\">Value</td>\n",
       "                <td title=\"Parabolic error\">Parab Error</td>\n",
       "                <td title=\"Minos lower error\">Minos Error-</td>\n",
       "                <td title=\"Minos upper error\">Minos Error+</td>\n",
       "                <td title=\"Lower limit of the parameter\">Limit-</td>\n",
       "                <td title=\"Upper limit of the parameter\">Limit+</td>\n",
       "                <td title=\"Is the parameter fixed in the fit\">FIXED</td>\n",
       "            </tr>\n",
       "        \n",
       "            <tr>\n",
       "                <td>1</td>\n",
       "                <td>TS</td>\n",
       "                <td>1.786826e+02</td>\n",
       "                <td>2.125314e+01</td>\n",
       "                <td>0.000000e+00</td>\n",
       "                <td>0.000000e+00</td>\n",
       "                <td>0.0</td>\n",
       "                <td>500.0</td>\n",
       "                <td></td>\n",
       "            </tr>\n",
       "            \n",
       "            <tr>\n",
       "                <td>2</td>\n",
       "                <td>TC</td>\n",
       "                <td>3.398492e+02</td>\n",
       "                <td>3.236176e+01</td>\n",
       "                <td>0.000000e+00</td>\n",
       "                <td>0.000000e+00</td>\n",
       "                <td>20.0</td>\n",
       "                <td>500.0</td>\n",
       "                <td></td>\n",
       "            </tr>\n",
       "            \n",
       "            <tr>\n",
       "                <td>3</td>\n",
       "                <td>TG2M</td>\n",
       "                <td>1.000000e+01</td>\n",
       "                <td>1.493510e+01</td>\n",
       "                <td>0.000000e+00</td>\n",
       "                <td>0.000000e+00</td>\n",
       "                <td>0.0</td>\n",
       "                <td>20.0</td>\n",
       "                <td></td>\n",
       "            </tr>\n",
       "            \n",
       "            <tr>\n",
       "                <td>4</td>\n",
       "                <td>r</td>\n",
       "                <td>1.000000e+00</td>\n",
       "                <td>0.000000e+00</td>\n",
       "                <td>0.000000e+00</td>\n",
       "                <td>0.000000e+00</td>\n",
       "                <td></td>\n",
       "                <td></td>\n",
       "                <td>FIXED</td>\n",
       "            </tr>\n",
       "            \n",
       "            <tr>\n",
       "                <td>5</td>\n",
       "                <td>GF</td>\n",
       "                <td>8.182269e-01</td>\n",
       "                <td>1.040229e-02</td>\n",
       "                <td>0.000000e+00</td>\n",
       "                <td>0.000000e+00</td>\n",
       "                <td>0.0</td>\n",
       "                <td>1.0</td>\n",
       "                <td></td>\n",
       "            </tr>\n",
       "            \n",
       "            </table>\n",
       "        \n",
       "            <pre id=\"MRlBpnUhKM\" style=\"display:none;\">\n",
       "            <textarea rows=\"16\" cols=\"50\" onclick=\"this.select()\" readonly>\\begin{tabular}{|c|r|r|r|r|r|r|r|c|}\n",
       "\\hline\n",
       " & Name & Value & Para Error & Error+ & Error- & Limit+ & Limit- & FIXED\\\\\n",
       "\\hline\n",
       "1 & TS & 1.787e+02 & 2.125e+01 &  &  & 0.000e+00 & 5.000e+02 & \\\\\n",
       "\\hline\n",
       "2 & TC & 3.398e+02 & 3.236e+01 &  &  & 2.000e+01 & 5.000e+02 & \\\\\n",
       "\\hline\n",
       "3 & TG2M & 1.000e+01 & 1.494e+01 &  &  & 0.000e+00 & 2.000e+01 & \\\\\n",
       "\\hline\n",
       "4 & r & 1.000e+00 & 0.000e+00 &  &  &  &  & FIXED\\\\\n",
       "\\hline\n",
       "5 & GF & 8.182e-01 & 1.040e-02 &  &  & 0.000e+00 & 1.000e+00 & \\\\\n",
       "\\hline\n",
       "\\end{tabular}</textarea>\n",
       "            </pre>\n",
       "            "
      ]
     },
     "metadata": {},
     "output_type": "display_data"
    },
    {
     "data": {
      "text/html": [
       "<hr>"
      ]
     },
     "metadata": {},
     "output_type": "display_data"
    },
    {
     "name": "stdout",
     "output_type": "stream",
     "text": [
      "regenerating\n"
     ]
    },
    {
     "data": {
      "text/html": [
       "<hr>"
      ]
     },
     "metadata": {},
     "output_type": "display_data"
    },
    {
     "data": {
      "text/html": [
       "\n",
       "        <table>\n",
       "            <tr>\n",
       "                <td title=\"Minimum value of function\">FCN = 55.063051836</td>\n",
       "                <td title=\"Total number of call to FCN so far\">TOTAL NCALL = 367</td>\n",
       "                <td title=\"Number of call in last migrad\">NCALLS = 367</td>\n",
       "            </tr>\n",
       "            <tr>\n",
       "                <td title=\"Estimated distance to minimum\">EDM = 3.42391247681e-08</td>\n",
       "                <td title=\"Maximum EDM definition of convergence\">GOAL EDM = 1e-05</td>\n",
       "                <td title=\"Error def. Amount of increase in FCN to be defined as 1 standard deviation\">\n",
       "                UP = 1.0</td>\n",
       "            </tr>\n",
       "        </table>\n",
       "        \n",
       "        <table>\n",
       "            <tr>\n",
       "                <td align=\"center\" title=\"Validity of the migrad call\">Valid</td>\n",
       "                <td align=\"center\" title=\"Validity of parameters\">Valid Param</td>\n",
       "                <td align=\"center\" title=\"Is Covariance matrix accurate?\">Accurate Covar</td>\n",
       "                <td align=\"center\" title=\"Positive definiteness of covariance matrix\">PosDef</td>\n",
       "                <td align=\"center\" title=\"Was covariance matrix made posdef by adding diagonal element\">Made PosDef</td>\n",
       "            </tr>\n",
       "            <tr>\n",
       "                <td align=\"center\" style=\"background-color:#92CCA6\">True</td>\n",
       "                <td align=\"center\" style=\"background-color:#92CCA6\">True</td>\n",
       "                <td align=\"center\" style=\"background-color:#92CCA6\">True</td>\n",
       "                <td align=\"center\" style=\"background-color:#92CCA6\">True</td>\n",
       "                <td align=\"center\" style=\"background-color:#92CCA6\">False</td>\n",
       "            </tr>\n",
       "            <tr>\n",
       "                <td align=\"center\" title=\"Was last hesse call fail?\">Hesse Fail</td>\n",
       "                <td align=\"center\" title=\"Validity of covariance\">HasCov</td>\n",
       "                <td align=\"center\" title=\"Is EDM above goal EDM?\">Above EDM</td>\n",
       "                <td align=\"center\"></td>\n",
       "                <td align=\"center\" title=\"Did last migrad call reach max call limit?\">Reach calllim</td>\n",
       "            </tr>\n",
       "            <tr>\n",
       "                <td align=\"center\" style=\"background-color:#92CCA6\">False</td>\n",
       "                <td align=\"center\" style=\"background-color:#92CCA6\">True</td>\n",
       "                <td align=\"center\" style=\"background-color:#92CCA6\">False</td>\n",
       "                <td align=\"center\"></td>\n",
       "                <td align=\"center\" style=\"background-color:#92CCA6\">False</td>\n",
       "            </tr>\n",
       "        </table>\n",
       "        "
      ]
     },
     "metadata": {},
     "output_type": "display_data"
    },
    {
     "data": {
      "text/html": [
       "\n",
       "        <table>\n",
       "            <tr>\n",
       "                <td><a href=\"#\" onclick=\"$('#JEjZHfksKv').toggle()\">+</a></td>\n",
       "                <td title=\"Variable name\">Name</td>\n",
       "                <td title=\"Value of parameter\">Value</td>\n",
       "                <td title=\"Parabolic error\">Parab Error</td>\n",
       "                <td title=\"Minos lower error\">Minos Error-</td>\n",
       "                <td title=\"Minos upper error\">Minos Error+</td>\n",
       "                <td title=\"Lower limit of the parameter\">Limit-</td>\n",
       "                <td title=\"Upper limit of the parameter\">Limit+</td>\n",
       "                <td title=\"Is the parameter fixed in the fit\">FIXED</td>\n",
       "            </tr>\n",
       "        \n",
       "            <tr>\n",
       "                <td>1</td>\n",
       "                <td>TS</td>\n",
       "                <td>8.787628e+01</td>\n",
       "                <td>8.652465e+00</td>\n",
       "                <td>0.000000e+00</td>\n",
       "                <td>0.000000e+00</td>\n",
       "                <td>0.0</td>\n",
       "                <td>500.0</td>\n",
       "                <td></td>\n",
       "            </tr>\n",
       "            \n",
       "            <tr>\n",
       "                <td>2</td>\n",
       "                <td>TC</td>\n",
       "                <td>1.185735e+02</td>\n",
       "                <td>1.024656e+01</td>\n",
       "                <td>0.000000e+00</td>\n",
       "                <td>0.000000e+00</td>\n",
       "                <td>20.0</td>\n",
       "                <td>500.0</td>\n",
       "                <td></td>\n",
       "            </tr>\n",
       "            \n",
       "            <tr>\n",
       "                <td>3</td>\n",
       "                <td>TG2M</td>\n",
       "                <td>9.570688e-08</td>\n",
       "                <td>1.978856e+01</td>\n",
       "                <td>0.000000e+00</td>\n",
       "                <td>0.000000e+00</td>\n",
       "                <td>0.0</td>\n",
       "                <td>20.0</td>\n",
       "                <td></td>\n",
       "            </tr>\n",
       "            \n",
       "            <tr>\n",
       "                <td>4</td>\n",
       "                <td>r</td>\n",
       "                <td>2.000000e+00</td>\n",
       "                <td>0.000000e+00</td>\n",
       "                <td>0.000000e+00</td>\n",
       "                <td>0.000000e+00</td>\n",
       "                <td></td>\n",
       "                <td></td>\n",
       "                <td>FIXED</td>\n",
       "            </tr>\n",
       "            \n",
       "            <tr>\n",
       "                <td>5</td>\n",
       "                <td>GF</td>\n",
       "                <td>9.579241e-01</td>\n",
       "                <td>7.318532e-03</td>\n",
       "                <td>0.000000e+00</td>\n",
       "                <td>0.000000e+00</td>\n",
       "                <td>0.0</td>\n",
       "                <td>1.0</td>\n",
       "                <td></td>\n",
       "            </tr>\n",
       "            \n",
       "            </table>\n",
       "        \n",
       "            <pre id=\"JEjZHfksKv\" style=\"display:none;\">\n",
       "            <textarea rows=\"16\" cols=\"50\" onclick=\"this.select()\" readonly>\\begin{tabular}{|c|r|r|r|r|r|r|r|c|}\n",
       "\\hline\n",
       " & Name & Value & Para Error & Error+ & Error- & Limit+ & Limit- & FIXED\\\\\n",
       "\\hline\n",
       "1 & TS & 8.788e+01 & 8.652e+00 &  &  & 0.000e+00 & 5.000e+02 & \\\\\n",
       "\\hline\n",
       "2 & TC & 1.186e+02 & 1.025e+01 &  &  & 2.000e+01 & 5.000e+02 & \\\\\n",
       "\\hline\n",
       "3 & TG2M & 9.571e-08 & 1.979e+01 &  &  & 0.000e+00 & 2.000e+01 & \\\\\n",
       "\\hline\n",
       "4 & r & 2.000e+00 & 0.000e+00 &  &  &  &  & FIXED\\\\\n",
       "\\hline\n",
       "5 & GF & 9.579e-01 & 7.319e-03 &  &  & 0.000e+00 & 1.000e+00 & \\\\\n",
       "\\hline\n",
       "\\end{tabular}</textarea>\n",
       "            </pre>\n",
       "            "
      ]
     },
     "metadata": {},
     "output_type": "display_data"
    },
    {
     "data": {
      "text/html": [
       "<hr>"
      ]
     },
     "metadata": {},
     "output_type": "display_data"
    }
   ],
   "source": [
    "best_fit = {}\n",
    "print('')\n",
    "for cell_population in li_data.index.unique():\n",
    "    best_fit[cell_population] = scan_model(SSE_functions[cell_population], r[cell_population], global_fitarg, 25.0)\n",
    "    print cell_population\n",
    "    best_fit[cell_population].print_fmin()"
   ]
  },
  {
   "cell_type": "markdown",
   "metadata": {},
   "source": [
    "### Plotting data and model with estimated parameter values"
   ]
  },
  {
   "cell_type": "markdown",
   "metadata": {},
   "source": [
    "Here we calculate the mean and the standard deviation of the BrdU-labeled fraction of cells at each time point for each cell population:"
   ]
  },
  {
   "cell_type": "code",
   "execution_count": 20,
   "metadata": {
    "collapsed": false
   },
   "outputs": [],
   "source": [
    "plotdata = li_data[['time', 'labeling_fraction']].reset_index().groupby(['cell_population', 'time'])\\\n",
    "           .agg(['mean', 'std']).reset_index('time')"
   ]
  },
  {
   "cell_type": "markdown",
   "metadata": {},
   "source": [
    "Below, the experimental data and model with estimated parameter values are plotted (see Fig. 2f):"
   ]
  },
  {
   "cell_type": "code",
   "execution_count": 21,
   "metadata": {
    "collapsed": false
   },
   "outputs": [
    {
     "data": {
      "image/png": "[encoded data removed]",
      "text/plain": [
       "<matplotlib.figure.Figure at 0x7fd0d71c9950>"
      ]
     },
     "metadata": {},
     "output_type": "display_data"
    }
   ],
   "source": [
    "def unwrapper(M):\n",
    "    v = M.values\n",
    "    return v['TS'], v['TC'], v['TG2M'], v['r'], v['GF']\n",
    "\n",
    "plottime = sp.arange(0, 500, 0.1)\n",
    "\n",
    "for cell_population in plotdata.index.unique():\n",
    "    plt.errorbar(plotdata.loc[cell_population]['time'], plotdata.loc[cell_population]['labeling_fraction', 'mean'],\\\n",
    "                 plotdata.loc[cell_population]['labeling_fraction', 'std'],\\\n",
    "                 color = colors[cell_population], fmt = 'o', label = cell_population)\n",
    "    plt.plot(plottime,\\\n",
    "             sp.vectorize(li_model_float, excluded = [1, 2, 3, 4, 5])(plottime, *unwrapper(best_fit[cell_population])),\\\n",
    "             color=colors[cell_population])\n",
    "\n",
    "plt.xlabel('BrdU labeling time time (hours)', fontsize = 'x-large')\n",
    "plt.ylabel('Proportion of BrdU labeled cells', fontsize = 'x-large')\n",
    "plt.xlim(0, 350)\n",
    "\n",
    "plt.legend(loc = 0, numpoints = 1)\n",
    "\n",
    "plt.show()"
   ]
  },
  {
   "cell_type": "markdown",
   "metadata": {},
   "source": [
    "## Combined length of G2- and M-Phase"
   ]
  },
  {
   "cell_type": "markdown",
   "metadata": {},
   "source": [
    "The combined length of G2- an M-Phase was estimated to be 9 hours."
   ]
  },
  {
   "cell_type": "code",
   "execution_count": 22,
   "metadata": {
    "collapsed": true
   },
   "outputs": [],
   "source": [
    "TG2M = 9.0"
   ]
  },
  {
   "cell_type": "markdown",
   "metadata": {},
   "source": [
    "## Estimation of M-Phase and G1-Phase lengths"
   ]
  },
  {
   "cell_type": "markdown",
   "metadata": {},
   "source": [
    "### M-Phase length"
   ]
  },
  {
   "cell_type": "markdown",
   "metadata": {},
   "source": [
    "The M-phase length was estimated by $T_M = mi \\cdot T_C$. The specific cell populations under study are defined by a time after amputation and two positions $l_{min}$ and $l_{max}$ along the anteroposterior axis:"
   ]
  },
  {
   "cell_type": "code",
   "execution_count": 23,
   "metadata": {
    "collapsed": true
   },
   "outputs": [],
   "source": [
    "#                    cell population     time  lmin      lmax\n",
    "time_and_regions = {'uninjured'       : [0,    -sp.inf,  sp.inf],\n",
    "                    'regenerating'    : [6,          0,  sp.inf],\n",
    "                    'non-regenerating': [6,    -sp.inf,   -1000]}"
   ]
  },
  {
   "cell_type": "markdown",
   "metadata": {},
   "source": [
    "The following function estimates the length of M-Phase and its error:"
   ]
  },
  {
   "cell_type": "code",
   "execution_count": 24,
   "metadata": {
    "collapsed": true
   },
   "outputs": [],
   "source": [
    "def calc_TM(cell_population):\n",
    "    # TC from the BrdU data least square estimate \n",
    "    TC, TC_delta = best_fit[cell_population].values['TC'], best_fit[cell_population].errors['TC']\n",
    "    # calculate the mitotic index for the specific cell population under study\n",
    "    mi, mi_delta = calc_mean_mi(cell_number_data, *time_and_regions[cell_population])\n",
    "    # calculate M-phase length\n",
    "    TM = mi * TC\n",
    "    # estimate the 1-sigma error with linear error propagation\n",
    "    TM_delta = TM * (mi_delta / mi + TC_delta / TC)\n",
    "    \n",
    "    return TM, TM_delta"
   ]
  },
  {
   "cell_type": "markdown",
   "metadata": {},
   "source": [
    "### Length of G1 phase"
   ]
  },
  {
   "cell_type": "markdown",
   "metadata": {},
   "source": [
    "Calculation of length of G1 phase:"
   ]
  },
  {
   "cell_type": "code",
   "execution_count": 25,
   "metadata": {
    "collapsed": false
   },
   "outputs": [],
   "source": [
    "def calc_TG1(cell_population):\n",
    "    TS, TS_delta = best_fit[cell_population].values['TS'], best_fit[cell_population].errors['TS']\n",
    "    TC, TC_delta = best_fit[cell_population].values['TC'], best_fit[cell_population].errors['TC']\n",
    "\n",
    "    TG1 = TC - TS - TG2M\n",
    "    TG1_delta = TC_delta + TS_delta \n",
    "    return TG1, TG1_delta"
   ]
  },
  {
   "cell_type": "markdown",
   "metadata": {},
   "source": [
    "## Summary: all phases "
   ]
  },
  {
   "cell_type": "markdown",
   "metadata": {},
   "source": [
    "Calculate and print the result for all cell cycle phases:"
   ]
  },
  {
   "cell_type": "code",
   "execution_count": 26,
   "metadata": {
    "collapsed": false
   },
   "outputs": [],
   "source": [
    "cell_cycle_phase = pd.DataFrame()\n",
    "for cell_population in li_data.index.unique():\n",
    "    TS, TS_delta = best_fit[cell_population].values['TS'], best_fit[cell_population].errors['TS']\n",
    "    TC, TC_delta = best_fit[cell_population].values['TC'], best_fit[cell_population].errors['TC']\n",
    "    TM, TM_delta = calc_TM(cell_population)\n",
    "    TG1, TG1_delta = calc_TG1(cell_population)\n",
    "    TG2 = TG2M - TM\n",
    "    TG2_delta = TM_delta\n",
    "\n",
    "    cell_cycle_phase.loc[cell_population, 'TC'] = TC\n",
    "    cell_cycle_phase.loc[cell_population, 'TC_delta'] = TC_delta\n",
    "    cell_cycle_phase.loc[cell_population, 'TG1'] = TG1\n",
    "    cell_cycle_phase.loc[cell_population, 'TG1_delta'] = TG1_delta\n",
    "    cell_cycle_phase.loc[cell_population, 'TS'] = TS\n",
    "    cell_cycle_phase.loc[cell_population, 'TS_delta'] = TS_delta\n",
    "    cell_cycle_phase.loc[cell_population, 'TG2'] = TG2\n",
    "    cell_cycle_phase.loc[cell_population, 'TG2_delta'] = TG2_delta    \n",
    "    cell_cycle_phase.loc[cell_population, 'TM'] = TM\n",
    "    cell_cycle_phase.loc[cell_population, 'TM_delta'] = TM_delta"
   ]
  },
  {
   "cell_type": "code",
   "execution_count": 29,
   "metadata": {
    "collapsed": false
   },
   "outputs": [
    {
     "data": {
      "text/html": [
       "<div style=\"max-height:1000px;max-width:1500px;overflow:auto;\">\n",
       "<table border=\"1\" class=\"dataframe\">\n",
       "  <thead>\n",
       "    <tr style=\"text-align: right;\">\n",
       "      <th></th>\n",
       "      <th>TC</th>\n",
       "      <th>TC_delta</th>\n",
       "      <th>TG1</th>\n",
       "      <th>TG1_delta</th>\n",
       "      <th>TS</th>\n",
       "      <th>TS_delta</th>\n",
       "      <th>TG2</th>\n",
       "      <th>TG2_delta</th>\n",
       "      <th>TM</th>\n",
       "      <th>TM_delta</th>\n",
       "    </tr>\n",
       "  </thead>\n",
       "  <tbody>\n",
       "    <tr>\n",
       "      <th>uninjured</th>\n",
       "      <td> 324</td>\n",
       "      <td> 20</td>\n",
       "      <td> 185</td>\n",
       "      <td> 34</td>\n",
       "      <td> 130</td>\n",
       "      <td> 13</td>\n",
       "      <td> 3</td>\n",
       "      <td> 2</td>\n",
       "      <td> 5</td>\n",
       "      <td> 2</td>\n",
       "    </tr>\n",
       "    <tr>\n",
       "      <th>non-regenerating</th>\n",
       "      <td> 339</td>\n",
       "      <td> 32</td>\n",
       "      <td> 152</td>\n",
       "      <td> 53</td>\n",
       "      <td> 178</td>\n",
       "      <td> 21</td>\n",
       "      <td> 1</td>\n",
       "      <td> 2</td>\n",
       "      <td> 7</td>\n",
       "      <td> 2</td>\n",
       "    </tr>\n",
       "    <tr>\n",
       "      <th>regenerating</th>\n",
       "      <td> 118</td>\n",
       "      <td> 10</td>\n",
       "      <td>  21</td>\n",
       "      <td> 18</td>\n",
       "      <td>  87</td>\n",
       "      <td>  8</td>\n",
       "      <td> 5</td>\n",
       "      <td> 1</td>\n",
       "      <td> 3</td>\n",
       "      <td> 1</td>\n",
       "    </tr>\n",
       "  </tbody>\n",
       "</table>\n",
       "</div>"
      ],
      "text/plain": [
       "                   TC  TC_delta  TG1  TG1_delta   TS  TS_delta  TG2  \\\n",
       "uninjured         324        20  185         34  130        13    3   \n",
       "non-regenerating  339        32  152         53  178        21    1   \n",
       "regenerating      118        10   21         18   87         8    5   \n",
       "\n",
       "                  TG2_delta  TM  TM_delta  \n",
       "uninjured                 2   5         2  \n",
       "non-regenerating          2   7         2  \n",
       "regenerating              1   3         1  "
      ]
     },
     "execution_count": 29,
     "metadata": {},
     "output_type": "execute_result"
    }
   ],
   "source": [
    "sp.floor(cell_cycle_phase)"
   ]
  }
 ],
 "metadata": {
  "kernelspec": {
   "display_name": "Python 2",
   "language": "python",
   "name": "python2"
  },
  "language_info": {
   "codemirror_mode": {
    "name": "ipython",
    "version": 2
   },
   "file_extension": ".py",
   "mimetype": "text/x-python",
   "name": "python",
   "nbconvert_exporter": "python",
   "pygments_lexer": "ipython2",
   "version": "2.7.9"
  }
 },
 "nbformat": 4,
 "nbformat_minor": 0
}
